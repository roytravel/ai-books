from sklearn.datasets import load_iris
from sklearn.tree import DecisionTreeClassifier
from sklearn.model_selection import train_test_split
from sklearn.metrics import accuracy_score
import pandas as pd

# 붓꽃 데이터 셋 로딩
iris = load_iris()


# iris.data는 iris 데이터 셋에서 feature만으로 된 데이터를 numpy로 가지고 있다.
iris_data = iris.data


# iris.target은 붓꽃 데이터 셋에서 레이블(결정 값) 데이터를 numpy로 가지고 있다.
iris_label = iris.target
print ('iris target값:', iris_label)
print ('iris target명:', iris.target_names)


# 붓꽃 데이터 셋을 자세히 보기 위해 DataFrame으로 변환
iris_df = pd.DataFrame(data=iris_data, columns=iris.feature_names)
iris_df['label'] = iris.target
iris_df.head()


# random_state의 경우 random 값을 만드는 seed로 지정하지 않을 경우 수행 시 다른 학습/테스트 용 데이터가 만들어짐
# 학습용 피처 데이터 셋 : X_train
# 테스트용 피처 데이터 셋 : X_test
# 학습용 레이블 데이터 셋 : Y_train
# 테스트용 레이블 데이터 셋 : Y_test
X_train, X_test, Y_train, Y_test = train_test_split(iris_data, iris_label, test_size = 0.2, random_state=11)


# 사이킷런 의사 결정 트리 클래스를 객체로 생성
dt_clf = DecisionTreeClassifier(random_state=11)

# 학습 수행
dt_clf.fit(X_train, Y_train)

# 학습 완료된 DecisionTreeClassifier 객체에서 테스트 데이터 셋으로 예측 수행
pred = dt_clf.predict(X_test)

print ('예측 정확도: {0:.4f}'.format(accuracy_score(Y_test, pred)))
