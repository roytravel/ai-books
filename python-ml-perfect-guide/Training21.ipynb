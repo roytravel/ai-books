from sklearn.datasets import load_iris
from sklearn.tree import DecisionTreeClassifier
from sklearn.model_selection import GridSearchCV

iris = load_iris()
X_train, X_test, Y_train, Y_test = train_test_split(iris_data.data, iris_data.target, test_size = 0.2, random_state = 121)

dtree = DecisionTreeClassifier()

parameters = {'max_depth':[1, 2, 3], 'min_samples_split':[2, 3]}

import pandas as pd

# param_grid의 하이퍼 라라미터를 3개의 train, test set fold로 나누어 테스트 수행 설정.
### refit=True가 default임. True면 가장 좋은 파라미터 설정으로 재학습시킴

grid_dtree = GridSearchCV(dtree, param_grid = parameters, cv=3, refit=True)

# 붓꽃 학습 데이터로 param_grid의 하이퍼 파라미터를 순차적으로 학습/평가
grid_dtree.fit(X_train, Y_train)

# GridSearchCV 결과를 추출해 DataFrame으로 변환
scores_df = pd.DataFrame(grid_dtree.cv_results_)
scores_df[['params', 'mean_test_score', 'rank_test_score', 'split0_test_score', 'split1_test_score', 'split2_test_score']]

# GridSearchCV 객체의 fit()를 수행하면 최고 성능을 나타낸
# 하이퍼 파라미터의 값과 그때의 평가 결과 값이 각각 best_params_, best_score_ 속성에 기록 됨
print ('GridSearchCV 최적 파라미터:', grid_dtree.best_params_)
print ('GridSearchCV 최고 정확도:{0:.4f}'.format(grid_dtree.best_score_))

# GridSearchCV의 refit으로 이미 학습된 estimator 반환
estimator = grid_dtree.best_estimator_

# # GridSearchCV의 best_estimator_는 이미 최적 학습이 됐으므로 별도 학습이 필요 없음
pred = estimator.predict(X_test)
print ('테스트 데이터 셋 정확도: {0:.4f}'.format(accuracy_score(Y_test, pred)))
