def get_square(a):
  return a**2

print ('3의 제곱은:', get_square(3))

# lambda는 위와 같이 함수의 선언과 함수 내의 처리를 한 줄의 식으로 쉽게 변환하는 식이다.
lambda_square = lambda x : x ** 2
print ('3의 제곱은:', lambda_square(3))

# 여러 개의 값을 입력 인자로 사용할 경우 map 함수를 결합하여 사용한다.
a = [1, 2, 3]
squares = map(lambda x : x**2, a)
list(squares)
# >>>[1, 4, 9]


# 'Name' 컬럼의 문자열 개수를 별도의 컬럼인 'Name_len'에 생성
titanic_df['Name_len'] = titanic_df['Name'].apply(lambda x : len(x))
titanic_df[['Name', 'Name_len']].head()


# 나이가 15세 미만일 경우 'Child', 그렇지 않으면 'Adult'로 구분하는 'Child_Adult'를 apply lambda를 이용하여 다음과 같이 작성
titanic_df['Child_Adult'] = titanic_df['Age'].apply(lambda x : 'child' if x <= 15 else 'Adult')
titanic_df[['Age', 'Child_Adult']].head(8)


# 나이가 15세 이하면 'Child', 15세 ~ 60세 사이는 Adult, 61세 이상은 Elderly로 분류하는 'Age_Cat' 컬럼을 다음과 같이 작성
titanic_df['Age_Cat'] = titanic_df['Age'].apply(lambda x : 'Child' if x <=15 else ('Adult' if x <= 60 else 'Elderly'))
titanic_df['Age_Cat'].value_counts()


# 나이에 따라 세분화된 분류를 수행하는 함수 생성
def get_category(age):
  cat = ''
  if age <= 5: cat = 'Baby'
  elif age <= 12: cat = 'Child'
  elif age <= 18: cat = 'Teenager'
  elif age <= 25: cat = 'Student'
  elif age <= 35: cat = 'Young Adult'
  elif age <= 60: cat = 'Adult'
  else : cat = 'Elderly'

  return cat

# lambda 식에 위에서 생성한 get_category() 함수를 반환값으로 지정.
# get_category(x)는 입력값으로 'Age' 컬럼 값을 받아서 해당하는 cat 반환
titanic_df['Age_cat'] = titanic_df['Age'].apply(lambda x : get_category(x))
titanic_df[['Age', 'Age_cat']]
