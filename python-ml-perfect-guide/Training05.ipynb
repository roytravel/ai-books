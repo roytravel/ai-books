array1d = np.arange(start=1, stop=10)
array2d = array1d.reshape(3, 3)
print (array2d)

#Indexing
print ('(row=0, col=0) index 가리키는 값:', array2d[0, 0])
print ('(row=0, col=1) index 가리키는 값:', array2d[0, 1])
print ('(row=1, col=0) index 가리키는 값:', array2d[1, 0])
print ('(row=2, col=2) index 가리키는 값:', array2d[2, 2])

#Slicing
print ('array2d[0:2, 0:2] \n', array2d[0:2, 0:2])
print ('array2d[1:3, 0:3] \n', array2d[1:3, 0:3])
print ('array2d[1:3, :] \n', array2d[1:3, :])
print ('array2d[:, :] \n', array2d[:, :])
print ('array2d[:2, 1:] \n', array2d[:2, 1:])
print ('array2d[:2, 0] \n', array2d[:2, 0])


#Fancy Indexing
array3 = array2d[[0, 1], 2]
print ('array2d[[0, 1], 2] => ', array3.tolist())

array4 = array2d[[0, 1], 0:2]
print ('array2d[[0, 1], 0:2] => ', array4.tolist())

array5 = array2d[[0, 1]]
print ('array2d[[0, 1]] => ', array5.tolist())

#Boolean Indexing
array3 = array1d[array1d > 5]
print ('array1d > 5 불린 인덱싱 결과 값 :', array3)
print (array1d > 5)

boolean_indexs = np.array([False, False, False, False, False, True, True, True, True])
array3 = array1d[boolean_indexs]
print ('불린 인덱스로 필터링 결과 :', array3)
