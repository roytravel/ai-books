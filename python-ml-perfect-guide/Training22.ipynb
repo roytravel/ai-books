from sklearn.preprocessing import LabelEncoder
from sklearn.preprocessing import OneHotEncoder
import numpy as np
import pandas as pd

items = ['TV', '냉장고', '전자레인지', '컴퓨터', '선풍기', '믹서', '믹서']

##### Label Encoding #####
# LabelEncoder를 객체로 생성한 후, fit()와 transform()으로 레이블 인코딩 수행.
encoder = LabelEncoder()
encoder.fit(items)
labels = encoder.transform(items)
print ("인코딩 변환값:", labels)

# 문자열 값이 어떤 숫자로 인코딩 됐는지 직관적으로 알 수 없지만 claseses_ 속성값으로 확인가능
print ('인코딩 클래스:', encoder.classes_)

 # inverse_transform()을 통해 인코딩된 값을 다시 디코딩 가능
print ('디코딩 원본값:', encoder.inverse_transform([4, 5, 2, 0, 1, 1, 3, 3]))

# 냉장고가 1, 믹서가 2로 변환되면 특정 ML 알고리즘에서 가중치가 더 부여되어 중요하게 인식할 가능성이 존재
# 이러한 특성으로 인해 위의 레이블 인코딩은 선형회귀와 같은 ML 알고리즘에는 적용해서는 안됨
# 트리 계열의 ML 알고리즘은 숫자의 이러한 특성을 반영하지 않으므로 레이블 인코딩도 별 문제 없음

##### One-Hot Encoding #####

# 먼저 숫자 값으로 변환을 위해 LabelEncoder로 변환
encoder = LabelEncoder()
encoder.fit(items)
labels = encoder.transform(items)

# 2차원 데이터로 변환
labels = labels.reshape(-1, 1)
print (labels)
# One-Hot Encoding 적용
oh_encoder = OneHotEncoder()
oh_encoder.fit(labels)
oh_labels = oh_encoder.transform(labels)
print ('One-Hot Encoding Data')
print (oh_labels.toarray())
print ('One-Hot Encoding Data Dimension')
print (oh_labels.shape)


# get_dummies를 이용하면 숫자형 값으로 변환 없이도 바로 변환이 가능
df = pd.DataFrame({'item':['TV', '냉장고', '전자레인지', '컴퓨터', '선풍기', '선풍기', '믹서', '믹서']})
pd.get_dummies(df)
