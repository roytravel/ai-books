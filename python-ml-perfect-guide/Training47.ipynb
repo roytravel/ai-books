{
  "nbformat": 4,
  "nbformat_minor": 0,
  "metadata": {
    "colab": {
      "name": "Untitled0.ipynb",
      "provenance": [],
      "collapsed_sections": []
    },
    "kernelspec": {
      "name": "python3",
      "display_name": "Python 3"
    }
  },
  "cells": [
    {
      "cell_type": "code",
      "metadata": {
        "id": "dv0ZdZDBwoQq",
        "colab_type": "code",
        "colab": {
          "base_uri": "https://localhost:8080/",
          "height": 125
        },
        "outputId": "cc471329-285c-4cde-9c08-a73f39be1dec"
      },
      "source": [
        "from sklearn.preprocessing import PolynomialFeatures\n",
        "import numpy as np\n",
        "\n",
        "# 다항식으로 변환한 단항식 생성, [[0, 1], [2, 3]]의 2x2 행렬 생성\n",
        "X = np.arange(4).reshape(2, 2)\n",
        "print ('일차 단항식 계수 피처:\\n', X)\n",
        "\n",
        "# degree = 2인 2차 다항식으로 변환하기 위해 PolynomialFeatures를 이용해 반환\n",
        "poly = PolynomialFeatures(degree=2)\n",
        "poly.fit(X)\n",
        "poly_ftr = poly.transform(X)\n",
        "print ('변환된 2차 다항식 계수 피처:\\n', poly_ftr)"
      ],
      "execution_count": 6,
      "outputs": [
        {
          "output_type": "stream",
          "text": [
            "일차 단항식 계수 피처:\n",
            " [[0 1]\n",
            " [2 3]]\n",
            "변환된 2차 다항식 계수 피처:\n",
            " [[1. 0. 1. 0. 0. 1.]\n",
            " [1. 2. 3. 4. 6. 9.]]\n"
          ],
          "name": "stdout"
        }
      ]
    },
    {
      "cell_type": "markdown",
      "metadata": {
        "id": "re0EXTrTyPEa",
        "colab_type": "text"
      },
      "source": [
        "이번에는 3차 다항 계수를 이용해 3차 다항 회귀 함수식을 PolynomialFeatures와 LinearRegression 클래스를 이용해 유도해본다. \n",
        "\n",
        "이를 위해 3차 다항 회귀 함수를 임의로 설정하고 이의 회귀 계수를 예측할 것이다."
      ]
    },
    {
      "cell_type": "code",
      "metadata": {
        "id": "8y8Dy5wJyaEi",
        "colab_type": "code",
        "colab": {
          "base_uri": "https://localhost:8080/",
          "height": 143
        },
        "outputId": "8e188ae2-9d2e-4c7b-f6d6-c1493b514b1a"
      },
      "source": [
        "def polynomial_func(X):\n",
        "  y = 1 + 2*X[:, 0] + 3*X[:, 0]**2 + 4*X[:,1]**3\n",
        "  return y\n",
        "\n",
        "\n",
        "X = np.arange(4).reshape(2,2)\n",
        "print (X)\n",
        "print ('일차 단항식 계수 feature: \\n', X)\n",
        "y = polynomial_func(X)\n",
        "print ('삼차 다항식 결정값: \\n', y)"
      ],
      "execution_count": 13,
      "outputs": [
        {
          "output_type": "stream",
          "text": [
            "[[0 1]\n",
            " [2 3]]\n",
            "일차 단항식 계수 feature: \n",
            " [[0 1]\n",
            " [2 3]]\n",
            "삼차 다항식 결정값: \n",
            " [  5 125]\n"
          ],
          "name": "stdout"
        }
      ]
    },
    {
      "cell_type": "code",
      "metadata": {
        "id": "9ShOJB_f1SKu",
        "colab_type": "code",
        "colab": {
          "base_uri": "https://localhost:8080/",
          "height": 125
        },
        "outputId": "bc6356be-2d6f-49b7-cf17-ba5c9dc43726"
      },
      "source": [
        "from sklearn.linear_model import LinearRegression\n",
        "# 3차 다항식 변환\n",
        "poly_ftr = PolynomialFeatures(degree=3).fit_transform(X)\n",
        "\n",
        "# [x, x1, x2, x1^2, x1x2, x2^2, x1^3, x1^2x2, x1x2^2, x1^3]\n",
        "print ('3차 다항식 계수 feature: \\n', poly_ftr)\n",
        "\n",
        "# Linear Regression에 3차 다항식 계수 feature와 3차 다항식 결정값으로 학습 후 회귀 계수 확인\n",
        "\n",
        "model = LinearRegression()\n",
        "model.fit(poly_ftr, y)\n",
        "print ('Polynomial 회귀 계수\\n', np.round(model.coef_, 2))\n",
        "print ('Polynomial 회귀 Shape :', model.coef_.shape)"
      ],
      "execution_count": 15,
      "outputs": [
        {
          "output_type": "stream",
          "text": [
            "3차 다항식 계수 feature: \n",
            " [[ 1.  0.  1.  0.  0.  1.  0.  0.  0.  1.]\n",
            " [ 1.  2.  3.  4.  6.  9.  8. 12. 18. 27.]]\n",
            "Polynomial 회귀 계수\n",
            " [0.   0.18 0.18 0.36 0.54 0.72 0.72 1.08 1.62 2.34]\n",
            "Polynomial 회귀 Shape : (10,)\n"
          ],
          "name": "stdout"
        }
      ]
    },
    {
      "cell_type": "code",
      "metadata": {
        "id": "TsHv49EE3FV5",
        "colab_type": "code",
        "colab": {
          "base_uri": "https://localhost:8080/",
          "height": 53
        },
        "outputId": "44e70675-42bb-4f8d-b5dc-a92c7be44844"
      },
      "source": [
        "from sklearn.preprocessing import PolynomialFeatures\n",
        "from sklearn.linear_model import LinearRegression\n",
        "from sklearn.pipeline import Pipeline\n",
        "import numpy as np\n",
        "\n",
        "def polynomial_func(X):\n",
        "  y = 1 + 2*X[:, 0] + 3*X[:, 0]**2 + 4*X[:, 1] **3\n",
        "  return y\n",
        "\n",
        "# Pipeline 객체로 Steamline 하게 Polynomial Feature 변환과 Linear Regression을 연결\n",
        "model = Pipeline([('poly', PolynomialFeatures(degree=3)), ('linear', LinearRegression())])\n",
        "\n",
        "X = np.arange(4).reshape(2,2)\n",
        "y = polynomial_func(X)\n",
        "\n",
        "model = model.fit(X, y)\n",
        "\n",
        "print ('Polynomial 회귀 계수\\n', np.round(model.named_steps['linear'].coef_, 2))"
      ],
      "execution_count": 20,
      "outputs": [
        {
          "output_type": "stream",
          "text": [
            "Polynomial 회귀 계수\n",
            " [0.   0.18 0.18 0.36 0.54 0.72 0.72 1.08 1.62 2.34]\n"
          ],
          "name": "stdout"
        }
      ]
    },
    {
      "cell_type": "code",
      "metadata": {
        "id": "ZDZftksh6hj0",
        "colab_type": "code",
        "colab": {}
      },
      "source": [
        "import numpy as np\n",
        "import matplotlib.pyplot as plt\n",
        "from sklearn.pipeline import Pipeline\n",
        "from sklearn.preprocessing import PolynomialFeatures\n",
        "from sklearn.linear_model import LinearRegression\n",
        "from sklearn.model_selection import cross_val_score\n",
        "%matplotlib inline\n",
        "\n",
        "# 임의의 값으로 구성된 X값에 대해 코사인 변환 값을 반환.\n",
        "def true_fun(X):\n",
        "  return np.cos(1.5 * np.pi * X)\n",
        "\n",
        "# X는 0부터 1까지의 30개의 임의의 값을 순서대로 샘플링한 데이터임\n",
        "np.random.seed(0)\n",
        "n_samples = 30\n",
        "X = np.sort(np.random.rand(n_samples))\n",
        "\n",
        "# y 값은 코사인 기반의 true_fun()에서 약간의 노이즈 변동 값을 더한 값임\n",
        "y = true_fun(X) + np.random.randn(n_samples) * 0.1"
      ],
      "execution_count": 0,
      "outputs": []
    },
    {
      "cell_type": "markdown",
      "metadata": {
        "id": "TrOneQT-7Y2_",
        "colab_type": "text"
      },
      "source": [
        "예측 결과를 비교할 다항식 차수를 각각 1, 4, 15로 변경하면서 예측 결과를 비교한다. 다항식 차수별로 학습을 수행한 뒤 cross_val_score()로 MSE 값을 구해 차수별 예측 성능을 평가한다. 그리고 0부터 1까지 균일하게 구성된 100개의 테스트용 데이터 셋을 이용해 차수별 회귀 예측 곡선을 그려본다."
      ]
    },
    {
      "cell_type": "code",
      "metadata": {
        "id": "O7YY_hve7Xsr",
        "colab_type": "code",
        "colab": {
          "base_uri": "https://localhost:8080/",
          "height": 564
        },
        "outputId": "f8f3dffd-1b75-4e1c-8edc-8aac2c285506"
      },
      "source": [
        "plt.figure(figsize=(14,5))\n",
        "degrees = [1, 4, 15]\n",
        "\n",
        "# 다항 회귀의 차수(degree)를 1, 4, 15로 각각 변화시키면서 비교\n",
        "for i in range(len(degrees)):\n",
        "  ax = plt.subplot(1, len(degrees), i+1)\n",
        "  plt.setp(ax, xticks=(), yticks=())\n",
        "\n",
        "  # 개별 deegree 별로 Polynomial 변환\n",
        "  polynomial_features = PolynomialFeatures(degree=degrees[i], include_bias=False)\n",
        "  linear_regression = LinearRegression()\n",
        "  pipeline = Pipeline([(\"polynomial_feature\", polynomial_features), (\"linear_regression\", linear_regression)])\n",
        "  pipeline.fit(X.reshape(-1, 1), y)\n",
        "\n",
        "  # 교차 검증으로 다항 회귀를 평가\n",
        "  scores = cross_val_score(pipeline, X.reshape(-1, 1), y, scoring=\"neg_mean_squared_error\", cv=10)\n",
        "\n",
        "  # Pipeline을 구성하는 세부 객체를 접근하는 named_steps['객체명']을 이용해 회귀계수 추출\n",
        "  coefficients = pipeline.named_steps['linear_regression'].coef_\n",
        "  print ('\\nDegree {0} 회귀 계수는 {1}입니다.'.format(degrees[i], np.round(coefficients, 2)))\n",
        "  print ('Degree {0} MSE는 {1}입니다.'.format(degrees[i], -1 * np.mean(scores)))\n",
        "\n",
        "  # 0부터 1까지 테스트 데이터 셋을 100개로 나눠 예측을 수행한다.\n",
        "  # 테스트 데이터 셋에 회귀 예측을 수행하고 예측 곡선과 실제 곡선을 그려서 비교한다.\n",
        "  X_test = np.linspace(0, 1, 100)\n",
        "  \n",
        "  # 예측 값 곡선\n",
        "  plt.plot(X_test, pipeline.predict(X_test[:, np.newaxis]), label=\"Model\")\n",
        "\n",
        "  # 실제값 곡선\n",
        "  plt.plot(X_test, true_fun(X_test), '--', label=\"True function\")\n",
        "  plt.scatter(X, y, edgecolor='b', s=20, label=\"Samples\")\n",
        "\n",
        "  plt.xlabel(\"x\")\n",
        "  plt.ylabel(\"y\")\n",
        "  plt.ylim((-2, 2))\n",
        "  plt.legend(loc=\"best\")\n",
        "  plt.title(\"Degree {}\\nMSE = {:.2e}(+/- {:.2e})\".format(degrees[i], -scores.mean(), scores.std()))\n",
        "\n",
        "plt.show()\n"
      ],
      "execution_count": 35,
      "outputs": [
        {
          "output_type": "stream",
          "text": [
            "\n",
            "Degree 1 회귀 계수는 [-1.61]입니다.\n",
            "Degree 1 MSE는 0.4077289625098685입니다.\n",
            "\n",
            "Degree 4 회귀 계수는 [  0.47 -17.79  23.59  -7.26]입니다.\n",
            "Degree 4 MSE는 0.043208749872320706입니다.\n",
            "\n",
            "Degree 15 회귀 계수는 [-2.98291000e+03  1.03898770e+05 -1.87415056e+06  2.03715126e+07\n",
            " -1.44872551e+08  7.09311979e+08 -2.47064676e+09  6.24558367e+09\n",
            " -1.15676035e+10  1.56894317e+10 -1.54005437e+10  1.06456871e+10\n",
            " -4.91375763e+09  1.35919168e+09 -1.70380199e+08]입니다.\n",
            "Degree 15 MSE는 180526263.3177066입니다.\n"
          ],
          "name": "stdout"
        },
        {
          "output_type": "display_data",
          "data": {
            "image/png": "[encoded data removed]",
            "text/plain": [
              "<Figure size 1008x360 with 3 Axes>"
            ]
          },
          "metadata": {
            "tags": []
          }
        }
      ]
    }
  ]
}