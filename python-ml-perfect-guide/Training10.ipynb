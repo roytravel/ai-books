from google.colab import drive
import pandas as pd

titanic_df = pd.read_csv(r'/content/gdrive/My Drive/Colab Notebooks/titanic_train.csv')

# 컬럼 'Age_0'을 추가 후 모든 데이터를 0으로 할당
titanic_df['Age_0'] = 0
titanic_df.head(5)

# Age 컬럼에 10을 곱한 값을 새로운 컬럼 Age_by_10에 할당
titanic_df['Age_by_10'] = titanic_df['Age'] * 10

# SibSp 컬럼 데이터 값과 Parch 컬럼 데이터 값을 더하여 새로운 컬럼 Failmy_no에 값 할당
titanic_df['Family_No'] = titanic_df['SibSp'] + titanic_df["Parch"] + 1
titanic_df.head(3)

# Age_by_10 칼럼 값을 기존 값 + 100으로 업데이트
titanic_df['Age_by_10'] = titanic_df['Age_by_10'] + 100
titanic_df.head(5)

#axis = 0 ==> 행
#axis = 1 ==> 열

# Age_0 컬럼을 칼럼 축으로 삭제
# 하지만 drop 인자중 inplace가 False기 때문에 아래의 titanic_drop_df 객채에만 사라진 것으로 보이고 실제 titanic_df에는 컬럼 존재
titanic_drop_df = titanic_df.drop('Age_0', axis = 1)
titanic_drop_df.head()

#유의할 점은 inpalce = True를 하면 반환 값이 None이기 때문에 다시 titanic_df를 반환 하면 DataFrame 객체가 None으로 할당되어버림
#따라서 drop_result의 결과를 확인하면 None이 되는 것을 확인할 수 있는데 이는 굳이 변수를 할당할 의미가 없음을 말함
drop_result = titanic_df.drop(['Age_0', 'Age_by_10', 'Family_No'], axis = 1, inplace = True)
print ('inplace=True로 drop 후 반환된 값:', drop_result)
titanic_df.head(3)

pd.set_option('display.width', 1000)
pd.set_option('display.max_colwidth', 15)
print ('#### before axis 0 drop ####')
print (titanic_df.head(3))

#행 축으로 인덱스 값 0, 1, 2
titanic_df.drop([0, 1, 2], axis = 0, inplace = True)

print ('#### after axis 0 drop ####')
print (titanic_df.head(3))
