from google.colab import drive
from sklearn.ensemble import RandomForestClassifier
from sklearn.metrics import accuracy_score
import pandas as pd
import warnings
warnings.filterwarnings('ignore')
drive.mount('/content/gdrive/')


def get_new_feature_name_df(old_feature_name_df):
  feature_dup_df = pd.DataFrame(data=old_feature_name_df.groupby('column_name').cumcount(), columns=['dup_cnt'])
  feature_dup_df = feature_dup_df.reset_index()
  new_feature_name_df = pd.merge(old_feature_name_df.reset_index(), feature_dup_df, how='outer')
  new_feature_name_df['column_name'] = new_feature_name_df[['column_name', 'dup_cnt']].apply(lambda x : x[0] + '_' + str(x[1]) if x[1] > 0 else x[0], axis = 1)
  new_feature_name_df = new_feature_name_df.drop(['index'], axis=1)
  return new_feature_name_df


def get_human_dataset():

  # 각 데이터 파일은 공백으로 분리되어 있으므로 read_csv에서 공백 문자를 sep으로 할당.
  feature_name_df = pd.read_csv('/content/gdrive/My Drive/Colab Notebooks/UCI HAR Dataset/features.txt', sep='\s+', header=None, names=['column_index','column_name'])

  # 중복된 피처명을 수정하는 get_new_feature_name_df()를 이용, 신규 피처명 DataFrame 생성.
  new_feature_name_df = get_new_feature_name_df(feature_name_df)

  # DataFrame에 피처명을 컬럼으로 부여하기 위해 리스트 객체로 다시 변환
  feature_name = new_feature_name_df.iloc[:, 1].values.tolist()
  
  # 학습 피처 데이터셋과 테스트 피처 데이터를 DataFrame으로 로딩. 컬럼명은 feature_name 적용
  X_train = pd.read_csv('/content/gdrive/My Drive/Colab Notebooks/UCI HAR Dataset/train/X_train.txt', sep='\s+', names=feature_name)
  X_test = pd.read_csv('/content/gdrive/My Drive/Colab Notebooks/UCI HAR Dataset/test/X_test.txt', sep='\s+', names=feature_name)

  # 학습 레이블과 테스트 레이블 데이터를 DataFrame으로 로딩하고 컬럼명을 action으로 부여
  y_train = pd.read_csv('/content/gdrive/My Drive/Colab Notebooks/UCI HAR Dataset/train/y_train.txt', sep='\s+', names=['action'])
  y_test = pd.read_csv('/content/gdrive/My Drive/Colab Notebooks/UCI HAR Dataset/test/y_test.txt', sep='\s+', names=['action'])

  # 로드된 학습/테스트용 DataFrame을 모두 반환
  return X_train, X_test, y_train, y_test


# 결정 트리에서 사용한 get_human_dataset()를 이용해 학습/테스트용 DataFrame 반환
X_train, X_test, y_train, y_test = get_human_dataset()

# # 랜덤 포레스트 학습 및 별도의 테스트 셋으로 예측 성능 평가
# rf_clf = RandomForestClassifier(random_state=0)
# rf_clf.fit(X_train, y_train)
# pred = rf_clf.predict(X_test)
# accuracy = accuracy_score(y_test, pred)
# print ('랜덤 포레스트 정확도: {0:.4f}'.format(accuracy))


from sklearn.model_selection import GridSearchCV

params = {
    'n_estimators' : [100],
    'max_depth' : [6, 8, 10, 12],
    'min_samples_leaf' : [8, 12, 18],
    'min_samples_split' : [8, 16, 20]
}

# RandomForestClassifier 객체 생성 후 GridSearchCV 수행
# rf_clf = RandomForestClassifier(random_state=0, n_jobs=-1)
# grid_cv = GridSearchCV(rf_clf, param_grid=params, cv=2, n_jobs = -1)
# grid_cv.fit(X_train, y_train)

# print ('최적 하이퍼 파라미터:\n', grid_cv.best_params_)
# print ('최고 예측 정확도: {0:.4f}'.format(grid_cv.best_score_))

################################################################################

# n_estimators를 300으로 증가시키고, 최적화 하이퍼 파라미터로 다시 RandomForestClassifier를 학습시킨 뒤 별도의 테스트 데이터 셋에서 예측 성능 측정
rf_clf1 = RandomForestClassifier(n_estimators=300, max_depth=10, min_samples_leaf=8, min_samples_split=8, random_state=0)
rf_clf1.fit(X_train, y_train)
pred = rf_clf1.predict(X_test)
print ('예측 정확도: {0:.4f}'.format(accuracy_score(y_test, pred)))


################################################################################

# RandomForestClassifier 역시 DecisionTreeClassifier와 똑같이 feature_importances_ 속성을 이용해 알고리즘이 선택한 피처 중요도 시각화 가능

import matplotlib.pyplot as plt
import seaborn as sns
%matplotlib inline

ftr_importances_values = rf_clf1.feature_importances_
ftr_importances = pd.Series(ftr_importances_values, index = X_train.columns)
ftr_top20 = ftr_importances.sort_values(ascending=False)[:20]

plt.figure(figsize=(8,6))
plt.title('Feature importances Top 20')
sns.barplot(x=ftr_top20, y = ftr_top20.index)
plt.show()

