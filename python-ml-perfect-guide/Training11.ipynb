from google.colab import drive
import pandas as pd

# pandas에서 Index 객체는 RDBMS의 PK와 유사하게 DataFrame, Series 레코드를 고유하게 식별하는 객체임.
# Index 객체만 추출하려면 DataFrame.index 또는 Series.index 속성을 통해 가능

titanic_df = pd.read_csv(r'/content/gdrive/My Drive/Colab Notebooks/titanic_train.csv')

# Index 객체 추출
indexes = titanic_df.index
print (indexs)

# Index 객체를 실제 값 array로 변환
# print ('Index 객체 array 값 :\n', indexes.values)

print (type(indexes.values))
print (indexes.values.shape)
print (indexes[:5].values)
print (indexes.values[:5])
print (indexes[6])

series_fair = titanic_df['Fare']
print ('Fair Series max 값:', series_fair.max())
print ('Fair Series sum 값:', series_fair.sum())
print ('sum() Fair Series:', sum(series_fair))
print ('Fiar Series + 3:\n', (series_fair + 3).head(3))

titanic_reset_df = titanic_df.reset_index(inplace = False)
titanic_reset_df.head(3)

print ('### before reset_index ###')
value_counts = titanic_df['Pclass'].value_counts()
print (value_counts)
print ('value_counts 객체 변수 타입:', type(value_counts))
new_value_counts = value_counts.reset_index(inplace = False)
print ('### After reset_index ###')
print (new_value_counts)
print ('new_value_counts 객체 변수 타입:', type(new_value_counts))
