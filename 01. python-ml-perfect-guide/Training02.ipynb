array_int = np.array([1, 2, 3])
array_float = array_int.astype('float64')
print (array_float, array_float.dtype)

array_int1 = array_float.astype('int32')
print (array_int1, array_int1.dtype)

array_float1 = np.array([1.1, 2.1, 3.1])
array_int2 = array_float1.astype('int32')
print (array_int2, array_int2.dtype)

