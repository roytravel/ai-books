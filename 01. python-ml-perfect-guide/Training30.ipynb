import numpy as np
import pandas as pd
import matplotlib.pyplot as plt
%matplotlib inline

from sklearn.model_selection import train_test_split
from sklearn.metrics import accuracy_score, precision_score, recall_score, roc_auc_score
from sklearn.metrics import f1_score, confusion_matrix, precision_recall_curve, roc_curve
from sklearn.preprocessing import StandardScaler
from sklearn.linear_model import LogisticRegression


from google.colab import drive

def get_clf_eval(y_test, pred=None, pred_proba=None):
  confusion = confusion_matrix(y_test, pred)
  accuracy = accuracy_score(y_test, pred)
  precision = precision_score(y_test, pred)
  recall = recall_score(y_test, pred)
  f1 = f1_score(y_test, pred)

  # ROC-AUC 추가
  roc_auc = roc_auc_score(y_test, pred_proba)
  print ('오차 행렬')
  print (confusion)

  # ROC-AUC print 추가
  print ('정확도: {0:.4f}, 정밀도: {1:.4f}, 재현율: {2:.4f}, F1: {3:.4f}, AUC:{4:.4f}'.format(accuracy, precision, recall, f1, roc_auc))


drive.mount('/content/gdrive/')

# 데이터셋 불러오기
diabetes_data = pd.read_csv('/content/gdrive/My Drive/Colab Notebooks/diabetes.csv')

# 데이터셋의 레이블인 Outcome 필드의 값 개수 출력
print (diabetes_data['Outcome'].value_counts())

# 데이터셋의 현황 확인 (Default 5개)
diabetes_data.head()

# 데이터셋의 레코드 개수와 컬럼 타입 확인, 핵심은 NULL 값을 확인하기 위함
diabetes_data.info()

# 피처 데이터 세트 X, 레이블 데이터 세트 y를 추출.
## X는 모든 행을 출력하되, 마지막 컬럼을 포함하지 않음
## y는 모든 행을 출력하고, 마지막 컬럼을 포함함
X = diabetes_data.iloc[:, :-1]
y = diabetes_data.iloc[:, -1]

X_train, X_test, y_train, y_test = train_test_split(X, y, test_size = 0.2, random_state = 156, stratify=y)

# 로지스틱 회귀로 학습, 예측 및 평가 수행.
lr_clf = LogisticRegression()
lr_clf.fit(X_train, y_train)
pred = lr_clf.predict(X_test)
pred_proba = lr_clf.predict_proba(X_test)[:, 1]

get_clf_eval(y_test, pred, pred_proba)
