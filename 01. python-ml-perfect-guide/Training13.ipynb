from google.colab import drive
import pandas as pd

titanic_df = pd.read_csv('/content/gdrive/My Drive/Colab Notebooks/titanic_train.csv')

# sort_values()의 경우 RDBMS의 order by 키워드와 매우 유사
titanic_sorted = titanic_df.sort_values(by='Name')
titanic_sorted.head()

# sort_values()의 주요 입력 파라미터는 by, ascending, inplace가 존재
titanic_sorted = titanic_df.sort_values(by = ['Pclass', 'Name'], ascending = False)
titanic_sorted.head()

# DataFrame에서 min(), max(), sum(), count(), mean()과 같은 aggregation 함수의 적용은 RDBMS SQL의 aggregation 함수 적용과 유사
# 모든 컬럼에 count() 결과를 반환
titanic_df.count()

# 특정 컬럼에 DataFrame의 대상 컬럼만 추출해서 aggregation 적용
titanic_df[['Age', 'Fare']].mean()


titanic_groupby = titanic_df.groupby(by='Pclass')
print (type(titanic_groupby))

titanic_groupby = titanic_df.groupby(by='Pclass').count()
titanic_groupby

titanic_groupby = titanic_df.groupby('Pclass')[['PassengerId', 'Survived']].count()
titanic_groupby

# 아래는 Select max(Age), min(Age) from titanic_table groupby Pclass 와 같음
titanic_df.groupby('Pclass')['Age'].agg([max, min])

# 아래는 Select max(Age), sum(SibSp), avg(Fare) from titanic_table group by Pclass 와 같음
agg_format = {'Age' : 'max', 'SibSp' : 'sum', 'Fare' : 'mean'}
titanic_df.groupby('Pclass').agg(agg_format)

