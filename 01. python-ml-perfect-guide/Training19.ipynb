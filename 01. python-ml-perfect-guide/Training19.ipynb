import pandas as pd

iris = load_iris()
iris_df = pd.DataFrame(data=iris.data, columns=iris.feature_names)
iris_df['label'] = iris.target
iris_df['label'].value_counts()

kfold = KFold(n_splits=3)
n_iter = 0

for train_index, test_index in kfold.split(iris_df):
  n_iter = n_iter + 1
  label_train = iris_df['label'].iloc[train_index]
  label_test = iris_df['label'].iloc[test_index]
  print ('## 교차검증: {0}'.format(n_iter))
  print ('학습 레이블 데이터 분포:\n', label_train.value_counts())
  print ('검증 레이블 데이터 분포:\n', label_train.value_counts())
  iris_df['label'].value_counts()
  print ('\n')

# 교차 검증 마다 3개의 폴드 세트로 만들어지는 학습 레이블과 검증 레이블이 완전히 다른 값으로 추출되었다.
# 예를 들면 첫 번째 교차 검증에선 학습 레이블의 1, 2 값이 각각 50개가 추출됐고, 검증 레이블의 0값이 50개 추출됐다.
# 학습 레이블은 1, 2 밖에 없으므로 0의 경우는 전혀 학습하지 못한다.
# 반대로 검증 레이블은 0밖에 없으므로 학습 모델은 절대 0을 예측하지 못한다.
# 이런 유형으로 교차 검증 데이터 셋을 분할하면 검증 예측 정확도는 0이 될 수 밖에 없다.
# 이러한 문제는 StratifiedKFold가 KFold로 분할된 레이블 데이터 셋이 전체 레이블 값의 분포도를 반영하지 못하는 문제를 해결해준다.
###############################################################################################################################

from sklearn.model_selection import StratifiedKFold

skf = StratifiedKFold(n_splits = 3)
n_iter = 0

for train_index, test_index in skf.split(iris_df, iris_df['label']):
  n_iter = n_iter + 1
  label_train = iris_df['label'].iloc[train_index]
  label_test = iris_df['label'].iloc[test_index]
  print ('## 교차 검증: {0}'.format(n_iter))
  print ('학습 레이블 데이터 분포:\n', label_train.value_counts())
  print ('검증 레이블 데이터 분포:\n', label_test.value_counts())
  print ('\n')
