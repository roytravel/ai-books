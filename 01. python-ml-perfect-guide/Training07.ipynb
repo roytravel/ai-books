import numpy as np

#행렬의 내적 구하기
a = np.array([[1, 2, 3],
              [4, 5, 6]])

b = np.array([[7, 8],
              [9, 10],
              [11, 12]])

c = np.dot(a,b)
print (c)

#전치행렬 구하기
d = np.array([[1, 2],
              [3, 4]])

transpose_mat = np.transpose(d)
print ('d의 전치 행렬:\n', transpose_mat)
