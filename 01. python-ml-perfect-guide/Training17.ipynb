from sklearn.datasets import load_iris

iris_data = load_iris()

keys = iris_data.keys()
print ('붓꽃 데이터 셋의 키들:', keys)

print ('\n feature_names의 type:', type(iris_data.feature_names))
print (' feature_names의 shape:', len(iris_data.feature_names))
print (iris_data.feature_names)

print('\n target_names의 type:', type(iris_data.target_names))
print (' target_names의 shape:', len(iris_data.target_names))
print (iris_data.target_names)

print ('\n data의 type:', type(iris_data.data))
print (' data의 shape:', iris_data.data.shape)
print (iris_data['data'])

print ('\n tar의 type:', type(iris_data.target))
print (' target의 shape:', iris_data.target.shape)
print (iris_data.target)
