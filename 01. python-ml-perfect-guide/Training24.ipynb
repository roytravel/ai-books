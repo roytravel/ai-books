from sklearn.preprocessing import MinMaxScaler
import numpy as np

train_array = np.arange(0, 11).reshape(-1, 1)
test_array = np.arange(0, 6).reshape(-1, 1)

# MinMaxScaler 객체에 별도의 feature_range 파라미터 값을 지정하지 않으면 0~1 값으로 반환
scaler = MinMaxScaler()

# fit()하게 되면 train_array 데이터의 최솟값이 0, 최댓값이 10으로 설정
scaler.fit(train_array)

# 1/10 scale로 train_array 데이터 변환함. 원본 10-> 1로 변환됨.
train_scaled = scaler.transform(train_array)

print ('원본 train_array 데이터:', np.round(train_array.reshape(-1), 2))
print ('Scaled된 train_array 데이터:', np.round(train_scaled.reshape(-1), 2))

# MinMaxScaler에 test_aray를 fit()하게 되면 원본 데이터의 최솟값이 0, 최댓값이 5로 설정됨
scaler.fit(test_array)

# 1/5 scale로 test_array 데이터 변환함. 원본 5->1로 변환.
test_scaled = scaler.transform(test_array)

# test_array의 scale 변환 출력
print ('\n원본 test_array 데이터:', np.round(test_array.reshape(-1),2))
print ('Scaled된 test_array 데이터:', np.round(test_scaled.reshape(-1),2))

##########################################################################################

scaler = MinMaxScaler()
scaler.fit(train_array)
train_scaled = scaler.transform(train_array)
print ('\n원본 train_array 데이터:', np.round(train_array.reshape(-1), 2))
print ('Scaled된 train_array 데이터:', np.round(train_scaled.reshape(-1), 2))

# ★★★ test_array에 scale 변환을 할 때는 반드시 fit()를 호출하지 않고 transform()만으로 변환해야 함 ★★★.
test_scaled = scaler.transform(test_array)

print ('\n원본 test_array 데이터:', np.round(test_array.reshape(-1), 2))
print ('Scaled된 test_array 데이터:', np.round(test_scaled.reshape(-1), 2))
