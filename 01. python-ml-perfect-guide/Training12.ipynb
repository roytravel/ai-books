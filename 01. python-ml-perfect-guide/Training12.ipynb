from google.colab import drive
import pandas as pd

titanic_df = pd.read_csv('/content/gdrive/My Drive/Colab Notebooks/titanic_train.csv')

print ('단일 컬럼 데이터 추출:\n', titanic_df['Pclass'].head(3))
print ('\n여러 칼럼의 데이터 추출:\n', titanic_df[['Survived', 'Pclass']].head(3))
# print ('[ ]안에 숫자 index는 KeyError 오류 발생:\n', titanic_df[0])

# titanic_df[0:5] == titanic_df.head()
titanic_df[0:5]

#BOOLEAN INDEXING --> Pclass가 3인 경우만 출력
titanic_df[titanic_df['Pclass'] == 3].head(10)

print ('컬럼 위치 기반 인덱싱 데이터 추출:', titanic_df.iloc[0, 2])
print ('컬럼 명 기반 인덱싱 데이터 추출:', titanic_df.loc[0, 'Pclass'])

data = {'Name': ['Chulmin', 'Eunkyung', 'Jinwoong', 'Soobeom'],
        'Year': [2011, 2016, 2015, 2015],
        'Gender' : ['Male', 'Female', 'Male', 'Male']
       }
data_df = pd.DataFrame(data, index = ['one', 'two', 'three', 'four'])

data_df_reset = data_df.reset_index()
data_df_reset = data_df_reset.rename(columns={'index':'old_index'})

data_df_reset.index = data_df_reset.index + 1
data_df_reset

#DataFrame인 data_df의 첫 번째 행, 첫 번째 열 추출위해서는 행과 열 위치에 위치 기반 인덱싱 값 입력
data_df.iloc[0,0]

# 다음 코드는 오류 발생
# data_df.iloc[0, 'Name']

# 다음 코드는 오류 발생
# data_df.iloc['one', 0]

data_df_reset.iloc[0, 1]

data_df.loc['one', 'Name']

# 다음 코드는 오류 발생

print ('위치 기반 iloc slicing\n', data_df.iloc[0:1, 0], '\n')
print ('명칭 기반 loc slicing\n', data_df.loc['one':'two','Name'])

titanic_boolean = titanic_df[titanic_df['Age'] > 60]
print (type(titanic_boolean))
titanic_boolean

# 아래의 두 줄은 같은 결과를 출력
titanic_df[titanic_df['Age'] > 60][['Name', 'Age']].head()

titanic_df.loc[titanic_df['Age'] > 60, ['Name', 'Age']].head()

# 60세 이상, 선실 1등급, 여성 승객 추출 ==> 복합 조건 연산을 사용해서 필터링가능
titanic_df[ (titanic_df['Age'] > 60) & (titanic_df['Pclass']==1) &
           (titanic_df['Sex']=='female')]


#60세 이상, 선실 1등급, 여성 승객 추출 ==> 개별 조건 연산을 조합하여 필터링가능
cond1 = titanic_df['Age'] > 60
cond2 = titanic_df['Pclass'] == 1
cond3 = titanic_df['Sex'] == 'female'
titanic_df[ cond1 & cond2 & cond3]
