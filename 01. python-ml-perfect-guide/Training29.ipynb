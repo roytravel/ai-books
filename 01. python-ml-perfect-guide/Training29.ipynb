from google.colab import drive
from sklearn.metrics import roc_curve
from sklearn.linear_model import LogisticRegression
from sklearn.preprocessing import LabelEncoder
from sklearn.model_selection import train_test_split
from matplotlib import pyplot as plt
import numpy as np
import pandas as pd

drive.mount('/content/gdrive')

def transform_features(df):
  df = fillna(df)
  df = drop_features(df)
  df = format_features(df)
  return df


def fillna(df):
  df['Age'].fillna(df['Age'].mean(), inplace = True)
  df['Cabin'].fillna('N', inplace = True)
  df['Embarked'].fillna('N', inplace = True)
  df['Fare'].fillna(0, inplace = True)
  return df


def drop_features(df):
  df.drop(['PassengerId', 'Name', 'Ticket'], axis = 1, inplace=True)
  return df


def format_features(df):
  df['Cabin'] = df['Cabin'].str[:1]
  features = ['Cabin', 'Sex', 'Embarked']
  for feature in features:
    le = LabelEncoder()
    le = le.fit(df[feature])
    df[feature] = le.transform(df[feature])
  return df



# predict() 메서드는 단순히 Sex 피처가 1이면 0, 그렇지 않으면 1로 예측함.
def predict(self, X):
  pred = np.zeros((X.shape[0], 1))
  for i in range(X.shape[0]):
    if X['Sex'].iloc[i] == 1:
      pred[i] = 0
    else:
      pred[i] = 1

  return pred


titanic_df = pd.read_csv('/content/gdrive/My Drive/Colab Notebooks/titanic_train.csv')
Y_titanic_df = titanic_df['Survived']
X_titanic_df = titanic_df.drop('Survived', axis=1)
X_titanic_df = transform_features(X_titanic_df)
X_train, X_test, y_train, y_test = train_test_split(X_titanic_df, Y_titanic_df, test_size = 0.2, random_state = 11)

pred_proba = lr_clf.predict_proba(X_test)

lr_clf = LogisticRegression()
lr_clf.fit(X_train, y_train)

# 레이블 값이 1일때의 예측 확률을 추측
pred_proba_class1 = lr_clf.predict_proba(X_test)[:, 1]

fprs, tprs, thresholds = roc_curve(y_test, pred_proba_class1)

# 반환된 임곗값 배열 로우가 47건이므로 샘플로 10건만 추출하되, 임곗값을 5 Step으로 추출.
# thresholds[0]은 max(예측확률)+1로 임의 설정됨. 이를 제외하기 위해 np.arange는 1부터 시작
thr_index = np.arange(1, thresholds.shape[0], 5)


print ('샘플 추출을 위한 임곗값 배열의 index 10개:', thr_index)
print ('샘플용 10개의 임곗값: ', np.round(thresholds[thr_index], 2))

print ('샘플 임곗값별 FPR: ', np.round(fprs[thr_index],3))
print ('샘플 임곗값별 TPR: ', np.round(tprs[thr_index],3))

# roc_curve() 결과를 확인하면 임곗값이 1에 가까운 값에서 점점 작아지면서 FPR이 점점 커진다.
# FPR이 조금씩 커질때 TPR은 가파르게 커짐을 알 수 있다.

################################################################################################
# FPR 변화에 따른 TPR의 변화를 ROC 곡선으로 시각화.

def roc_curve_plot(y_test, pred_proba_c1):
  # 임곗값에 따른 FPR, TPR 값을 반환받음.
  fprs, tprs, thresholds = roc_curve(y_test, pred_proba_c1)

  # ROC 곡선을 그래프 곡선으로 그림.
  plt.plot(fprs, tprs, label='ROC')

  plt.plot([0, 1], [0, 1], 'k--', label='Random')

  # FPR X 축의 Scale을 0.1 단위로 변경, X, Y축 명 설정 등
  start, end = plt.xlim()
  plt.xticks(np.round(np.arange(start, end, 0.1), 2))
  plt.xlim(0, 1); plt.ylim(0, 1)
  plt.xlabel('FPR( 1 - Sensitivity )')
  plt.ylabel('TPR( Recall )')
  plt.legend()

roc_curve_plot(y_test, pred_proba[:, 1])
