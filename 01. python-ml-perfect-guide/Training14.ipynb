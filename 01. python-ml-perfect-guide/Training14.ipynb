from google.colab import drive
import pandas as pd

titanic_df = pd.read_csv('/content/gdrive/My Drive/Colab Notebooks/titanic_train.csv')

# pandas는 결손 데이터를 처리하는 API를 제공한다.
# 결손 데이터는 컬럼에 값이 없는, 즉 NULL인 경우를 의미ㅏ며, 이를 넘파이의 NaN으로 표시한다.
# 기본적으로 머신러닝 알고리즘은 이 NaN 값을 처리하지 않기에 이 값을 다른 값으로 대체해야 한다.
# NaN 여부를 확인하는 API는 isna()이며, NaN 값을 다른 값으로 대체하는 API는 fillna()이다.
# sum()호출 시 True는 내부적으로 1, False는 숫자 0으로 변환되어 결손 데이터의 개수를 구할 수 있다.
titanic_df.isna().sum()


# fillna()를 이용하면 결손 데이터를 편리하게 다른 값으로 대체가능
# 임의의 값 C000을 Cabin 컬럼의 NaNB 값을 대체
titanic_df['Cabin'] = titanic_df['Cabin'].fillna('C000')
titanic_df.head()

# 주의할 점은 fillna()를 이용해 반환 값을 다시 받거나, 
# inplace=True 파라미터를 fillna()에 추가해야 실제 데이터 셋 값이 변경된다.
# example1) titanic_df['Cabin'] = titanic_df['Cabin].fillna('C000')
# example2) titanic_df['Cabin'].fillna('C000',inplace=True)

# 'Age' 컬럼의 NaN 값을 평균 나이로, 'Embarked' 컬럼의 NaN 값을 'S'로 대체해 모든 결손 데이터를 처리
titanic_df['Age'] = titanic_df['Age'].fillna(titanic_df['Age'].mean())
titanic_df['Embarked'] = titanic_df['Embarked'].fillna('S')
titanic_df.isna().sum()

