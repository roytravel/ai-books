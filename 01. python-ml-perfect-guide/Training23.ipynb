from sklearn.preprocessing import StandardScaler
from sklearn.datasets import load_iris
import pandas as pd

iris = load_iris()
iris_df = pd.DataFrame(data=iris_data, columns = iris.feature_names)

# StandardScaler 객체 생성
scaler = StandardScaler()

# StandardScaler로 데이터 셋 변환. fit()과 transform() 호출.
scaler.fit(iris_df)
iris_scaled = scaler.transform(iris_df)

# transform()시 스케일 변환된 데이터 셋이 numpy ndarray로 반환돼 이를 DataFrame으로변환
iris_df_scaled = pd.DataFrame(data=iris_scaled, columns=iris.feature_names)

print ('feature들의 평균 값 : {}\n'.format(iris_df_scaled.mean()))
print ('feature들의 분산 값 : {}\n'.format(iris_df_scaled.var()))
