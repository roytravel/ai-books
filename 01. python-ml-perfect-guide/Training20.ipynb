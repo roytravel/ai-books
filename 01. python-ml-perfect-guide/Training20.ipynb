from sklearn.tree import DecisionTreeClassifier
from sklearn.model_selection import cross_val_score, cross_validate
from sklearn.datasets import load_iris
import numpy as np

iris_data = load_iris()
dt_clf = DecisionTreeClassifier(random_state = 156)

data = iris_data.data

label = iris_data.target

# 성능 지표는 정확도(accuracy), 교차 검증 세트는 3개
# cross_val_score()는 내부에서 Estimator를 학습(fit), 예측(predict), 평가(evaluation) 시키기에 간단하게 교차검증 수행 가능
# cross_val_score()는 내부적으로 StratifiedKFold를 사용한다.
# cross_validate()도 있고 여러 개의 평가 지표를 반환할 수 있으나 보통 cross_val_score()로 충분하다.
scores = cross_val_score(dt_clf, data, label, scoring='accuracy', cv=3)
print ('교차 검증별 정확도:', np.round(scores,4))
print ('평균 검증 정확도:', np.round(np.mean(scores),4))
