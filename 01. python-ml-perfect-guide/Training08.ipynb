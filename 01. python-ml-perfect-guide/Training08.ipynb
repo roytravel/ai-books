from google.colab import drive
import pandas as pd

titanic_df = pd.read_csv(r'/content/gdrive/My Drive/Colab Notebooks/titanic_train.csv')
print ('titanic 변수 type:', type(titanic_df))

#head에 개수 입력이 없으면 default 값은 5
titanic_df.head(3)

#csv 파일에 존재하는 데이터의 행과 열을 튜플 형태로 반환
print ('DataFrame 크기: ', titanic_df.shape)

#메타 데이터 조회
titanic_df.info()

#데이터 분포도 조회(데이터 분포도 => 머신러닝 알고리즘의 성능을 향상시키는 중요한 요소)
titanic_df.describe()

#value_counts의 경우 지정된 칼럼의 데이터값 건수를 내림차순으로 반환
value_counts = titanic_df['Pclass'].value_counts()
print (value_counts)

#Pclass 칼럼에 해당하는 Series 객체 반환(Series는 Index와 단 하나의 칼럼으로 구성된 데이터 세트임)
titanic_pclass = titanic_df['Pclass']
print (type(titanic_pclass))

titanic_pclass.head()
