{
 "cells": [
  {
   "cell_type": "markdown",
   "metadata": {},
   "source": [
    "## 3.5 뉴스 기사 분류: 다중 분류 문제"
   ]
  },
  {
   "cell_type": "markdown",
   "metadata": {},
   "source": [
    "### 코드 3-12 로이터 데이터셋 로드"
   ]
  },
  {
   "cell_type": "code",
   "execution_count": 19,
   "metadata": {},
   "outputs": [],
   "source": [
    "from tensorflow.keras.datasets import reuters\n",
    "\n",
    "import numpy as np\n",
    "# save np.load\n",
    "np_load_old = np.load\n",
    "\n",
    "# modify the default parameters of np.load\n",
    "np.load = lambda *a,**k: np_load_old(*a, allow_pickle=True, **k)\n",
    "\n",
    "# call load_data with allow_pickle implicitly set to true\n",
    "(train_data, train_labels), (test_data, test_labels) = reuters.load_data(num_words=10000)\n",
    "\n",
    "# restore np.load for future normal usage\n",
    "np.load = np_load_old"
   ]
  },
  {
   "cell_type": "code",
   "execution_count": 10,
   "metadata": {},
   "outputs": [
    {
     "data": {
      "text/plain": [
       "8982"
      ]
     },
     "execution_count": 10,
     "metadata": {},
     "output_type": "execute_result"
    }
   ],
   "source": [
    "len(train_data)"
   ]
  },
  {
   "cell_type": "code",
   "execution_count": 11,
   "metadata": {},
   "outputs": [
    {
     "data": {
      "text/plain": [
       "2246"
      ]
     },
     "execution_count": 11,
     "metadata": {},
     "output_type": "execute_result"
    }
   ],
   "source": [
    "len(test_data)"
   ]
  },
  {
   "cell_type": "code",
   "execution_count": 15,
   "metadata": {},
   "outputs": [
    {
     "data": {
      "text/plain": [
       "[1,\n",
       " 245,\n",
       " 273,\n",
       " 207,\n",
       " 156,\n",
       " 53,\n",
       " 74,\n",
       " 160,\n",
       " 26,\n",
       " 14,\n",
       " 46,\n",
       " 296,\n",
       " 26,\n",
       " 39,\n",
       " 74,\n",
       " 2979,\n",
       " 3554,\n",
       " 14,\n",
       " 46,\n",
       " 4689,\n",
       " 4329,\n",
       " 86,\n",
       " 61,\n",
       " 3499,\n",
       " 4795,\n",
       " 14,\n",
       " 61,\n",
       " 451,\n",
       " 4329,\n",
       " 17,\n",
       " 12]"
      ]
     },
     "execution_count": 15,
     "metadata": {},
     "output_type": "execute_result"
    }
   ],
   "source": [
    "train_data[10]"
   ]
  },
  {
   "cell_type": "markdown",
   "metadata": {},
   "source": [
    "### 코드 3-13 로이터 데이터셋 텍스트로 디코딩 (이 과정 이해 안감)"
   ]
  },
  {
   "cell_type": "code",
   "execution_count": 50,
   "metadata": {},
   "outputs": [],
   "source": [
    "word_index = reuters.get_word_index()\n",
    "reverse_word_index = dict([(value, key) for (key, value) in word_index.items()])\n",
    "decoded_newswire = ' '.join([reverse_word_index.get(i - 3, '?') for i in train_data[0]])"
   ]
  },
  {
   "cell_type": "code",
   "execution_count": 51,
   "metadata": {},
   "outputs": [
    {
     "data": {
      "text/plain": [
       "3"
      ]
     },
     "execution_count": 51,
     "metadata": {},
     "output_type": "execute_result"
    }
   ],
   "source": [
    "train_labels[10]"
   ]
  },
  {
   "cell_type": "markdown",
   "metadata": {},
   "source": [
    "## 3.5.2 데이터 준비"
   ]
  },
  {
   "cell_type": "markdown",
   "metadata": {},
   "source": [
    "### 코드 3-14 데이터 인코딩"
   ]
  },
  {
   "cell_type": "code",
   "execution_count": 52,
   "metadata": {},
   "outputs": [],
   "source": [
    "import numpy as np\n",
    "\n",
    "def vectorize_sequences(sequences, dimension=10000):\n",
    "    results = np.zeros((len(sequences), dimension))\n",
    "    for i, sequence in enumerate(sequences):\n",
    "        results[i, sequence] = 1.\n",
    "    return results\n",
    "\n",
    "x_train = vectorize_sequences(train_data) # 훈련 데이터 벡터 변환\n",
    "x_test = vectorize_sequences(test_data) # 테스트 데이터 벡터 변환"
   ]
  },
  {
   "cell_type": "code",
   "execution_count": 53,
   "metadata": {},
   "outputs": [],
   "source": [
    "def to_one_hot(labels, dimension=46):\n",
    "    results = np.zeros((len(labels), dimension))\n",
    "    for i, label in enumerate(labels):\n",
    "        results[i, label] = 1.\n",
    "    return results\n",
    "\n",
    "one_hot_train_labels = to_one_hot(train_labels) # 훈련 레이블 벡터 변환\n",
    "one_hot_test_labels = to_one_hot(test_labels) # 테스트 레이블 벡터 변환"
   ]
  },
  {
   "cell_type": "code",
   "execution_count": 54,
   "metadata": {},
   "outputs": [],
   "source": [
    "from tensorflow.keras.utils import to_categorical\n",
    "\n",
    "one_hot_train_labels = to_categorical(train_labels)\n",
    "one_hot_test_labels = to_categorical(test_labels)"
   ]
  },
  {
   "cell_type": "markdown",
   "metadata": {},
   "source": [
    "### 코드 3-15 모델 정의"
   ]
  },
  {
   "cell_type": "code",
   "execution_count": 59,
   "metadata": {},
   "outputs": [],
   "source": [
    "from tensorflow.keras import models\n",
    "from tensorflow.keras import layers\n",
    "\n",
    "model = models.Sequential()\n",
    "model.add(layers.Dense(64, activation='relu', input_shape=(10000,)))\n",
    "model.add(layers.Dense(64, activation='relu'))\n",
    "model.add(layers.Dense(46, activation='softmax'))"
   ]
  },
  {
   "cell_type": "markdown",
   "metadata": {},
   "source": [
    "### 코드 3-16 모델 컴파일"
   ]
  },
  {
   "cell_type": "code",
   "execution_count": 60,
   "metadata": {},
   "outputs": [],
   "source": [
    "model.compile(optimizer='rmsprop',\n",
    "             loss = 'categorical_crossentropy',\n",
    "             metrics=['accuracy'])"
   ]
  },
  {
   "cell_type": "markdown",
   "metadata": {},
   "source": [
    "## 3.5.4 훈련 검증"
   ]
  },
  {
   "cell_type": "markdown",
   "metadata": {},
   "source": [
    "### 코드 3-17 검증 세트 준비"
   ]
  },
  {
   "cell_type": "code",
   "execution_count": 61,
   "metadata": {},
   "outputs": [],
   "source": [
    "x_val = x_train[:1000]\n",
    "partial_x_train = x_train[1000:]\n",
    "\n",
    "y_val = one_hot_train_labels[:1000]\n",
    "partial_y_train = one_hot_train_labels[1000:]"
   ]
  },
  {
   "cell_type": "markdown",
   "metadata": {},
   "source": [
    "### 코드 3-18 모델 훈련"
   ]
  },
  {
   "cell_type": "code",
   "execution_count": 62,
   "metadata": {},
   "outputs": [
    {
     "name": "stdout",
     "output_type": "stream",
     "text": [
      "Train on 7982 samples, validate on 1000 samples\n",
      "Epoch 1/20\n",
      "7982/7982 [==============================] - 1s 97us/sample - loss: 2.5678 - acc: 0.5360 - val_loss: 1.6734 - val_acc: 0.6500\n",
      "Epoch 2/20\n",
      "7982/7982 [==============================] - 1s 74us/sample - loss: 1.3785 - acc: 0.7087 - val_loss: 1.2718 - val_acc: 0.7300\n",
      "Epoch 3/20\n",
      "7982/7982 [==============================] - 1s 73us/sample - loss: 1.0222 - acc: 0.7834 - val_loss: 1.1075 - val_acc: 0.7670\n",
      "Epoch 4/20\n",
      "7982/7982 [==============================] - 1s 73us/sample - loss: 0.8036 - acc: 0.8330 - val_loss: 1.0195 - val_acc: 0.7880\n",
      "Epoch 5/20\n",
      "7982/7982 [==============================] - 1s 73us/sample - loss: 0.6423 - acc: 0.8658 - val_loss: 0.9476 - val_acc: 0.8110\n",
      "Epoch 6/20\n",
      "7982/7982 [==============================] - 1s 73us/sample - loss: 0.5167 - acc: 0.8893 - val_loss: 0.9161 - val_acc: 0.8130\n",
      "Epoch 7/20\n",
      "7982/7982 [==============================] - 1s 73us/sample - loss: 0.4212 - acc: 0.9103 - val_loss: 0.9013 - val_acc: 0.8080\n",
      "Epoch 8/20\n",
      "7982/7982 [==============================] - 1s 73us/sample - loss: 0.3465 - acc: 0.9265 - val_loss: 0.8994 - val_acc: 0.8110\n",
      "Epoch 9/20\n",
      "7982/7982 [==============================] - 1s 73us/sample - loss: 0.2854 - acc: 0.9396 - val_loss: 0.9375 - val_acc: 0.8040\n",
      "Epoch 10/20\n",
      "7982/7982 [==============================] - 1s 73us/sample - loss: 0.2423 - acc: 0.9437 - val_loss: 0.9077 - val_acc: 0.8080\n",
      "Epoch 11/20\n",
      "7982/7982 [==============================] - 1s 73us/sample - loss: 0.2123 - acc: 0.9484 - val_loss: 0.9046 - val_acc: 0.8200\n",
      "Epoch 12/20\n",
      "7982/7982 [==============================] - 1s 73us/sample - loss: 0.1818 - acc: 0.9519 - val_loss: 0.9349 - val_acc: 0.8110\n",
      "Epoch 13/20\n",
      "7982/7982 [==============================] - 1s 73us/sample - loss: 0.1638 - acc: 0.9529 - val_loss: 0.9458 - val_acc: 0.8130\n",
      "Epoch 14/20\n",
      "7982/7982 [==============================] - 1s 73us/sample - loss: 0.1509 - acc: 0.9539 - val_loss: 1.0066 - val_acc: 0.8050\n",
      "Epoch 15/20\n",
      "7982/7982 [==============================] - 1s 73us/sample - loss: 0.1422 - acc: 0.9557 - val_loss: 0.9801 - val_acc: 0.8090\n",
      "Epoch 16/20\n",
      "7982/7982 [==============================] - 1s 73us/sample - loss: 0.1317 - acc: 0.9568 - val_loss: 1.0122 - val_acc: 0.8040\n",
      "Epoch 17/20\n",
      "7982/7982 [==============================] - 1s 73us/sample - loss: 0.1269 - acc: 0.9554 - val_loss: 1.0707 - val_acc: 0.7980\n",
      "Epoch 18/20\n",
      "7982/7982 [==============================] - 1s 74us/sample - loss: 0.1245 - acc: 0.9584 - val_loss: 1.0777 - val_acc: 0.8000\n",
      "Epoch 19/20\n",
      "7982/7982 [==============================] - 1s 72us/sample - loss: 0.1149 - acc: 0.9574 - val_loss: 1.0655 - val_acc: 0.7970\n",
      "Epoch 20/20\n",
      "7982/7982 [==============================] - 1s 73us/sample - loss: 0.1140 - acc: 0.9578 - val_loss: 1.0938 - val_acc: 0.7960\n"
     ]
    }
   ],
   "source": [
    "history = model.fit(partial_x_train,\n",
    "                    partial_y_train,\n",
    "                    epochs=20,\n",
    "                    batch_size=512,\n",
    "                    validation_data=(x_val, y_val))"
   ]
  },
  {
   "cell_type": "code",
   "execution_count": 68,
   "metadata": {},
   "outputs": [
    {
     "data": {
      "image/png": "[encoded data removed]",
      "text/plain": [
       "<Figure size 432x288 with 1 Axes>"
      ]
     },
     "metadata": {
      "needs_background": "light"
     },
     "output_type": "display_data"
    }
   ],
   "source": [
    "import matplotlib.pyplot as plt\n",
    "\n",
    "loss = history.history['loss']\n",
    "val_loss = history.history['val_loss']\n",
    "\n",
    "epochs = range(1, len(loss) + 1)\n",
    "\n",
    "plt.plot(epochs, loss, 'go', label='Training loss')\n",
    "plt.plot(epochs, val_loss, 'y', label='Validation loss')\n",
    "plt.title('Training and validation loss')\n",
    "plt.xlabel('Epochs')\n",
    "plt.ylabel('Loss')\n",
    "plt.legend()\n",
    "\n",
    "plt.show()"
   ]
  },
  {
   "cell_type": "markdown",
   "metadata": {},
   "source": [
    "### 코드 3-20 훈련과 검증 정확도 그리기\n"
   ]
  },
  {
   "cell_type": "code",
   "execution_count": 70,
   "metadata": {},
   "outputs": [
    {
     "data": {
      "image/png": "[encoded data removed]",
      "text/plain": [
       "<Figure size 432x288 with 1 Axes>"
      ]
     },
     "metadata": {
      "needs_background": "light"
     },
     "output_type": "display_data"
    }
   ],
   "source": [
    "plt.clf() # 그래프 초기화\n",
    "\n",
    "acc = history.history['acc']\n",
    "val_acc = history.history['val_acc']\n",
    "\n",
    "plt.plot(epochs, acc, 'go', label='Training acc')\n",
    "plt.plot(epochs, val_acc, 'y', label='Validation acc')\n",
    "plt.title('Training and validation accuracy')\n",
    "plt.xlabel('Epochs')\n",
    "plt.ylabel('Accuracy')\n",
    "plt.legend()\n",
    "\n",
    "plt.show()"
   ]
  },
  {
   "cell_type": "markdown",
   "metadata": {},
   "source": [
    "### 코드 3-21 모델을 처음부터 다시 훈련"
   ]
  },
  {
   "cell_type": "code",
   "execution_count": 71,
   "metadata": {},
   "outputs": [
    {
     "name": "stdout",
     "output_type": "stream",
     "text": [
      "Train on 7982 samples, validate on 1000 samples\n",
      "Epoch 1/9\n",
      "7982/7982 [==============================] - 1s 88us/sample - loss: 2.4203 - acc: 0.5059 - val_loss: 1.6161 - val_acc: 0.6460\n",
      "Epoch 2/9\n",
      "7982/7982 [==============================] - 1s 73us/sample - loss: 1.3463 - acc: 0.7110 - val_loss: 1.2645 - val_acc: 0.7140\n",
      "Epoch 3/9\n",
      "7982/7982 [==============================] - 1s 73us/sample - loss: 1.0168 - acc: 0.7788 - val_loss: 1.1150 - val_acc: 0.7640\n",
      "Epoch 4/9\n",
      "7982/7982 [==============================] - 1s 74us/sample - loss: 0.8052 - acc: 0.8287 - val_loss: 1.0345 - val_acc: 0.7740\n",
      "Epoch 5/9\n",
      "7982/7982 [==============================] - 1s 74us/sample - loss: 0.6379 - acc: 0.8657 - val_loss: 0.9818 - val_acc: 0.7910\n",
      "Epoch 6/9\n",
      "7982/7982 [==============================] - 1s 73us/sample - loss: 0.5131 - acc: 0.8948 - val_loss: 0.9305 - val_acc: 0.8070\n",
      "Epoch 7/9\n",
      "7982/7982 [==============================] - 1s 74us/sample - loss: 0.4085 - acc: 0.9154 - val_loss: 0.9274 - val_acc: 0.8150\n",
      "Epoch 8/9\n",
      "7982/7982 [==============================] - 1s 74us/sample - loss: 0.3383 - acc: 0.9292 - val_loss: 0.9164 - val_acc: 0.8160\n",
      "Epoch 9/9\n",
      "7982/7982 [==============================] - 1s 74us/sample - loss: 0.2745 - acc: 0.9399 - val_loss: 0.9180 - val_acc: 0.8210\n",
      "2246/2246 [==============================] - 0s 76us/sample - loss: 1.0043 - acc: 0.7836\n"
     ]
    }
   ],
   "source": [
    "model = models.Sequential()\n",
    "model.add(layers.Dense(64, activation='relu', input_shape=(10000,)))\n",
    "model.add(layers.Dense(64, activation='relu'))\n",
    "model.add(layers.Dense(46, activation='softmax'))\n",
    "\n",
    "model.compile(optimizer='rmsprop',\n",
    "             loss = 'categorical_crossentropy',\n",
    "             metrics=['accuracy'])\n",
    "\n",
    "model.fit(partial_x_train,\n",
    "         partial_y_train,\n",
    "         epochs=9,\n",
    "         batch_size = 512,\n",
    "         validation_data=(x_val, y_val))\n",
    "\n",
    "results = model.evaluate(x_test, one_hot_test_labels)"
   ]
  },
  {
   "cell_type": "code",
   "execution_count": 72,
   "metadata": {},
   "outputs": [
    {
     "data": {
      "text/plain": [
       "[1.004263568327879, 0.7836153]"
      ]
     },
     "execution_count": 72,
     "metadata": {},
     "output_type": "execute_result"
    }
   ],
   "source": [
    "results"
   ]
  },
  {
   "cell_type": "code",
   "execution_count": 73,
   "metadata": {},
   "outputs": [
    {
     "data": {
      "text/plain": [
       "0.1856634016028495"
      ]
     },
     "execution_count": 73,
     "metadata": {},
     "output_type": "execute_result"
    }
   ],
   "source": [
    "import copy\n",
    "test_labels_copy = copy.copy(test_labels)\n",
    "np.random.shuffle(test_labels_copy)\n",
    "hits_array = np.array(test_labels) == np.array(test_labels_copy)\n",
    "float(np.sum(hits_array) / len(test_labels))"
   ]
  },
  {
   "cell_type": "markdown",
   "metadata": {},
   "source": [
    "## 3.5.5 새 데이터에 대해 예측"
   ]
  },
  {
   "cell_type": "markdown",
   "metadata": {},
   "source": [
    "### 코드 3-22 새로운 데이터 대해 예측"
   ]
  },
  {
   "cell_type": "code",
   "execution_count": 74,
   "metadata": {},
   "outputs": [],
   "source": [
    "predictions = model.predict(x_test)"
   ]
  },
  {
   "cell_type": "code",
   "execution_count": 77,
   "metadata": {},
   "outputs": [
    {
     "data": {
      "text/plain": [
       "(46,)"
      ]
     },
     "execution_count": 77,
     "metadata": {},
     "output_type": "execute_result"
    }
   ],
   "source": [
    "predictions[0].shape"
   ]
  },
  {
   "cell_type": "code",
   "execution_count": 83,
   "metadata": {},
   "outputs": [
    {
     "data": {
      "text/plain": [
       "1.0000004"
      ]
     },
     "execution_count": 83,
     "metadata": {},
     "output_type": "execute_result"
    }
   ],
   "source": [
    "np.sum(predictions[0])"
   ]
  },
  {
   "cell_type": "code",
   "execution_count": 86,
   "metadata": {},
   "outputs": [
    {
     "data": {
      "text/plain": [
       "3"
      ]
     },
     "execution_count": 86,
     "metadata": {},
     "output_type": "execute_result"
    }
   ],
   "source": [
    "np.argmax(predictions[0])"
   ]
  },
  {
   "cell_type": "markdown",
   "metadata": {},
   "source": [
    "## 3.5.6 레이블과 손실을 다루는 다른 방법"
   ]
  },
  {
   "cell_type": "code",
   "execution_count": 87,
   "metadata": {},
   "outputs": [],
   "source": [
    "y_train = np.array(train_labels)\n",
    "y_test = np.array(test_labels)"
   ]
  },
  {
   "cell_type": "code",
   "execution_count": 88,
   "metadata": {},
   "outputs": [],
   "source": [
    "model.compile(optimizer='rmsprop',\n",
    "             loss = 'sparse_categorical_crossentropy',\n",
    "             metrics = ['accuracy'])"
   ]
  },
  {
   "cell_type": "markdown",
   "metadata": {},
   "source": [
    "## 3.5.7 충분히 큰 중간층을 둬야 하는 이유"
   ]
  },
  {
   "cell_type": "markdown",
   "metadata": {},
   "source": [
    "### 코드 3-23 정보 병목이 있는 모델"
   ]
  },
  {
   "cell_type": "code",
   "execution_count": 90,
   "metadata": {},
   "outputs": [
    {
     "name": "stdout",
     "output_type": "stream",
     "text": [
      "Train on 7982 samples, validate on 1000 samples\n",
      "Epoch 1/20\n",
      "7982/7982 [==============================] - 1s 113us/sample - loss: 3.0231 - acc: 0.2184 - val_loss: 2.3550 - val_acc: 0.4260\n",
      "Epoch 2/20\n",
      "7982/7982 [==============================] - 1s 97us/sample - loss: 1.9166 - acc: 0.5099 - val_loss: 1.6870 - val_acc: 0.6060\n",
      "Epoch 3/20\n",
      "7982/7982 [==============================] - 1s 97us/sample - loss: 1.4269 - acc: 0.6249 - val_loss: 1.4586 - val_acc: 0.6200\n",
      "Epoch 4/20\n",
      "7982/7982 [==============================] - 1s 97us/sample - loss: 1.2169 - acc: 0.6723 - val_loss: 1.3465 - val_acc: 0.6570\n",
      "Epoch 5/20\n",
      "7982/7982 [==============================] - 1s 96us/sample - loss: 1.0733 - acc: 0.7177 - val_loss: 1.3277 - val_acc: 0.6800\n",
      "Epoch 6/20\n",
      "7982/7982 [==============================] - 1s 97us/sample - loss: 0.9607 - acc: 0.7504 - val_loss: 1.2985 - val_acc: 0.6990\n",
      "Epoch 7/20\n",
      "7982/7982 [==============================] - 1s 96us/sample - loss: 0.8683 - acc: 0.7845 - val_loss: 1.3095 - val_acc: 0.7160\n",
      "Epoch 8/20\n",
      "7982/7982 [==============================] - 1s 97us/sample - loss: 0.7907 - acc: 0.8061 - val_loss: 1.3423 - val_acc: 0.7190\n",
      "Epoch 9/20\n",
      "7982/7982 [==============================] - 1s 97us/sample - loss: 0.7247 - acc: 0.8183 - val_loss: 1.3422 - val_acc: 0.7170\n",
      "Epoch 10/20\n",
      "7982/7982 [==============================] - 1s 97us/sample - loss: 0.6699 - acc: 0.8287 - val_loss: 1.3847 - val_acc: 0.7200\n",
      "Epoch 11/20\n",
      "7982/7982 [==============================] - 1s 97us/sample - loss: 0.6213 - acc: 0.8348 - val_loss: 1.4332 - val_acc: 0.7200\n",
      "Epoch 12/20\n",
      "7982/7982 [==============================] - 1s 96us/sample - loss: 0.5820 - acc: 0.8400 - val_loss: 1.4678 - val_acc: 0.7210\n",
      "Epoch 13/20\n",
      "7982/7982 [==============================] - 1s 96us/sample - loss: 0.5496 - acc: 0.8474 - val_loss: 1.5398 - val_acc: 0.7180\n",
      "Epoch 14/20\n",
      "7982/7982 [==============================] - 1s 97us/sample - loss: 0.5183 - acc: 0.8567 - val_loss: 1.5791 - val_acc: 0.7190\n",
      "Epoch 15/20\n",
      "7982/7982 [==============================] - 1s 96us/sample - loss: 0.4932 - acc: 0.8619 - val_loss: 1.5986 - val_acc: 0.7120\n",
      "Epoch 16/20\n",
      "7982/7982 [==============================] - 1s 96us/sample - loss: 0.4685 - acc: 0.8737 - val_loss: 1.6673 - val_acc: 0.7130\n",
      "Epoch 17/20\n",
      "7982/7982 [==============================] - 1s 96us/sample - loss: 0.4477 - acc: 0.8760 - val_loss: 1.7441 - val_acc: 0.7160\n",
      "Epoch 18/20\n",
      "7982/7982 [==============================] - 1s 96us/sample - loss: 0.4286 - acc: 0.8830 - val_loss: 1.8100 - val_acc: 0.7190\n",
      "Epoch 19/20\n",
      "7982/7982 [==============================] - 1s 97us/sample - loss: 0.4095 - acc: 0.8866 - val_loss: 1.8641 - val_acc: 0.7160\n",
      "Epoch 20/20\n",
      "7982/7982 [==============================] - 1s 97us/sample - loss: 0.3950 - acc: 0.8913 - val_loss: 1.9346 - val_acc: 0.7150\n"
     ]
    },
    {
     "data": {
      "text/plain": [
       "<tensorflow.python.keras.callbacks.History at 0x15135d40148>"
      ]
     },
     "execution_count": 90,
     "metadata": {},
     "output_type": "execute_result"
    }
   ],
   "source": [
    "model = models.Sequential()\n",
    "model.add(layers.Dense(64, activation='relu', input_shape=(10000,)))\n",
    "model.add(layers.Dense(4, activation='relu'))\n",
    "model.add(layers.Dense(46, activation='softmax'))\n",
    "\n",
    "model.compile(optimizer='rmsprop',\n",
    "             loss = 'categorical_crossentropy',\n",
    "             metrics=['accuracy'])\n",
    "\n",
    "model.fit(partial_x_train,\n",
    "         partial_y_train,\n",
    "         epochs=20,\n",
    "         batch_size=128,\n",
    "         validation_data=(x_val, y_val))"
   ]
  }
 ],
 "metadata": {
  "kernelspec": {
   "display_name": "Python 3",
   "language": "python",
   "name": "python3"
  },
  "language_info": {
   "codemirror_mode": {
    "name": "ipython",
    "version": 3
   },
   "file_extension": ".py",
   "mimetype": "text/x-python",
   "name": "python",
   "nbconvert_exporter": "python",
   "pygments_lexer": "ipython3",
   "version": "3.7.6"
  }
 },
 "nbformat": 4,
 "nbformat_minor": 4
}
