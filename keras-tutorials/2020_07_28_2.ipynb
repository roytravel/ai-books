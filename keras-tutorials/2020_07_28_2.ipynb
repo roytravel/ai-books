{
 "cells": [
  {
   "cell_type": "markdown",
   "metadata": {},
   "source": [
    "## 5.3 사전 훈련된 컨브넷 사용"
   ]
  },
  {
   "cell_type": "code",
   "execution_count": 16,
   "metadata": {},
   "outputs": [],
   "source": [
    "from tensorflow.keras.applications import VGG16\n",
    "\n",
    "conv_base = VGG16(weights='imagenet',\n",
    "                 include_top=False,\n",
    "                 input_shape=(150, 150, 3))"
   ]
  },
  {
   "cell_type": "code",
   "execution_count": 17,
   "metadata": {},
   "outputs": [
    {
     "name": "stdout",
     "output_type": "stream",
     "text": [
      "Model: \"vgg16\"\n",
      "_________________________________________________________________\n",
      "Layer (type)                 Output Shape              Param #   \n",
      "=================================================================\n",
      "input_2 (InputLayer)         [(None, 150, 150, 3)]     0         \n",
      "_________________________________________________________________\n",
      "block1_conv1 (Conv2D)        (None, 150, 150, 64)      1792      \n",
      "_________________________________________________________________\n",
      "block1_conv2 (Conv2D)        (None, 150, 150, 64)      36928     \n",
      "_________________________________________________________________\n",
      "block1_pool (MaxPooling2D)   (None, 75, 75, 64)        0         \n",
      "_________________________________________________________________\n",
      "block2_conv1 (Conv2D)        (None, 75, 75, 128)       73856     \n",
      "_________________________________________________________________\n",
      "block2_conv2 (Conv2D)        (None, 75, 75, 128)       147584    \n",
      "_________________________________________________________________\n",
      "block2_pool (MaxPooling2D)   (None, 37, 37, 128)       0         \n",
      "_________________________________________________________________\n",
      "block3_conv1 (Conv2D)        (None, 37, 37, 256)       295168    \n",
      "_________________________________________________________________\n",
      "block3_conv2 (Conv2D)        (None, 37, 37, 256)       590080    \n",
      "_________________________________________________________________\n",
      "block3_conv3 (Conv2D)        (None, 37, 37, 256)       590080    \n",
      "_________________________________________________________________\n",
      "block3_pool (MaxPooling2D)   (None, 18, 18, 256)       0         \n",
      "_________________________________________________________________\n",
      "block4_conv1 (Conv2D)        (None, 18, 18, 512)       1180160   \n",
      "_________________________________________________________________\n",
      "block4_conv2 (Conv2D)        (None, 18, 18, 512)       2359808   \n",
      "_________________________________________________________________\n",
      "block4_conv3 (Conv2D)        (None, 18, 18, 512)       2359808   \n",
      "_________________________________________________________________\n",
      "block4_pool (MaxPooling2D)   (None, 9, 9, 512)         0         \n",
      "_________________________________________________________________\n",
      "block5_conv1 (Conv2D)        (None, 9, 9, 512)         2359808   \n",
      "_________________________________________________________________\n",
      "block5_conv2 (Conv2D)        (None, 9, 9, 512)         2359808   \n",
      "_________________________________________________________________\n",
      "block5_conv3 (Conv2D)        (None, 9, 9, 512)         2359808   \n",
      "_________________________________________________________________\n",
      "block5_pool (MaxPooling2D)   (None, 4, 4, 512)         0         \n",
      "=================================================================\n",
      "Total params: 14,714,688\n",
      "Trainable params: 14,714,688\n",
      "Non-trainable params: 0\n",
      "_________________________________________________________________\n"
     ]
    }
   ],
   "source": [
    "conv_base.summary()"
   ]
  },
  {
   "cell_type": "markdown",
   "metadata": {},
   "source": [
    "## 데이터 증식을 사용하지 않는 빠른 특성 추출"
   ]
  },
  {
   "cell_type": "markdown",
   "metadata": {},
   "source": [
    "### 코드 5-17 사전 훈련된 합성곱 기반 층을 사용한 특성 추출"
   ]
  },
  {
   "cell_type": "code",
   "execution_count": 18,
   "metadata": {},
   "outputs": [
    {
     "name": "stdout",
     "output_type": "stream",
     "text": [
      "Found 2000 images belonging to 2 classes.\n",
      "100\n",
      "Found 1000 images belonging to 2 classes.\n",
      "50\n",
      "Found 1000 images belonging to 2 classes.\n",
      "50\n"
     ]
    }
   ],
   "source": [
    "import os\n",
    "import numpy as np\n",
    "from tensorflow.keras.preprocessing.image import ImageDataGenerator\n",
    "\n",
    "base_dir = \"C:/datasets/cats_and_dogs_small\"\n",
    "train_dir = os.path.join(base_dir, 'train')\n",
    "validation_dir = os.path.join(base_dir, 'validation')\n",
    "test_dir = os.path.join(base_dir, 'test' )\n",
    "\n",
    "datagen = ImageDataGenerator(rescale=1./255)\n",
    "batch_size = 20\n",
    "\n",
    "def extract_features(directory, sample_count):\n",
    "    features = np.zeros(shape=(sample_count, 4, 4, 512))\n",
    "    labels = np.zeros(shape=(sample_count))\n",
    "    generator = datagen.flow_from_directory(\n",
    "        directory,\n",
    "        target_size = (150, 150),\n",
    "        batch_size = batch_size,\n",
    "        class_mode = 'binary')\n",
    "    \n",
    "    i = 0\n",
    "    for inputs_batch, labels_batch in generator:\n",
    "        features_batch = conv_base.predict(inputs_batch)\n",
    "        features[i * batch_size : (i + 1) * batch_size] = features_batch\n",
    "        labels[i * batch_size : (i + 1) * batch_size] = labels_batch\n",
    "        i = i + 1\n",
    "        if i * batch_size >= sample_count:\n",
    "            print (i)\n",
    "            break\n",
    "    \n",
    "    return features, labels\n",
    "\n",
    "train_features, train_labels = extract_features(train_dir, 2000)\n",
    "validation_features, validation_labels = extract_features(validation_dir, 1000)\n",
    "test_features, test_labels = extract_features(test_dir, 1000)\n",
    "    "
   ]
  },
  {
   "cell_type": "markdown",
   "metadata": {},
   "source": [
    "추출된 feature의 크기는 (samples, 4, 4, 512)고, Fully Connected Network에 주입하기 위해 먼저 (samples, 8192) 크기로 펼침"
   ]
  },
  {
   "cell_type": "code",
   "execution_count": 19,
   "metadata": {},
   "outputs": [],
   "source": [
    "train_features = np.reshape(train_features, (2000, 4 * 4 * 512))\n",
    "validation_features = np.reshape(validation_features, (1000, 4 * 4 * 512))\n",
    "test_features = np.reshape(test_features, (1000, 4 * 4 * 512))"
   ]
  },
  {
   "cell_type": "markdown",
   "metadata": {},
   "source": [
    "### 코드 5-18 완전 연결 분류기를 정의하고 훈련"
   ]
  },
  {
   "cell_type": "code",
   "execution_count": 20,
   "metadata": {},
   "outputs": [
    {
     "name": "stdout",
     "output_type": "stream",
     "text": [
      "Epoch 1/30\n",
      "100/100 [==============================] - 0s 3ms/step - loss: 0.6145 - acc: 0.6445 - val_loss: 0.4449 - val_acc: 0.8150\n",
      "Epoch 2/30\n",
      "100/100 [==============================] - 0s 3ms/step - loss: 0.4361 - acc: 0.7955 - val_loss: 0.3640 - val_acc: 0.8680\n",
      "Epoch 3/30\n",
      "100/100 [==============================] - 0s 2ms/step - loss: 0.3627 - acc: 0.8420 - val_loss: 0.3242 - val_acc: 0.8800\n",
      "Epoch 4/30\n",
      "100/100 [==============================] - 0s 2ms/step - loss: 0.3243 - acc: 0.8610 - val_loss: 0.3134 - val_acc: 0.8800\n",
      "Epoch 5/30\n",
      "100/100 [==============================] - 0s 2ms/step - loss: 0.2886 - acc: 0.8855 - val_loss: 0.2864 - val_acc: 0.8890\n",
      "Epoch 6/30\n",
      "100/100 [==============================] - 0s 2ms/step - loss: 0.2640 - acc: 0.8945 - val_loss: 0.2790 - val_acc: 0.8930\n",
      "Epoch 7/30\n",
      "100/100 [==============================] - 0s 2ms/step - loss: 0.2506 - acc: 0.9005 - val_loss: 0.2812 - val_acc: 0.8840\n",
      "Epoch 8/30\n",
      "100/100 [==============================] - 0s 2ms/step - loss: 0.2306 - acc: 0.9115 - val_loss: 0.2607 - val_acc: 0.8920\n",
      "Epoch 9/30\n",
      "100/100 [==============================] - 0s 2ms/step - loss: 0.2170 - acc: 0.9200 - val_loss: 0.2656 - val_acc: 0.8910\n",
      "Epoch 10/30\n",
      "100/100 [==============================] - 0s 2ms/step - loss: 0.2086 - acc: 0.9225 - val_loss: 0.2509 - val_acc: 0.8940\n",
      "Epoch 11/30\n",
      "100/100 [==============================] - 0s 2ms/step - loss: 0.2002 - acc: 0.9295 - val_loss: 0.2480 - val_acc: 0.8970\n",
      "Epoch 12/30\n",
      "100/100 [==============================] - 0s 2ms/step - loss: 0.1824 - acc: 0.9355 - val_loss: 0.2517 - val_acc: 0.8930\n",
      "Epoch 13/30\n",
      "100/100 [==============================] - 0s 2ms/step - loss: 0.1776 - acc: 0.9335 - val_loss: 0.2445 - val_acc: 0.8970\n",
      "Epoch 14/30\n",
      "100/100 [==============================] - 0s 2ms/step - loss: 0.1693 - acc: 0.9395 - val_loss: 0.2421 - val_acc: 0.9020\n",
      "Epoch 15/30\n",
      "100/100 [==============================] - 0s 2ms/step - loss: 0.1581 - acc: 0.9455 - val_loss: 0.2443 - val_acc: 0.8950\n",
      "Epoch 16/30\n",
      "100/100 [==============================] - 0s 2ms/step - loss: 0.1531 - acc: 0.9450 - val_loss: 0.2382 - val_acc: 0.9020\n",
      "Epoch 17/30\n",
      "100/100 [==============================] - 0s 2ms/step - loss: 0.1468 - acc: 0.9455 - val_loss: 0.2416 - val_acc: 0.8970\n",
      "Epoch 18/30\n",
      "100/100 [==============================] - 0s 2ms/step - loss: 0.1424 - acc: 0.9530 - val_loss: 0.2413 - val_acc: 0.8970\n",
      "Epoch 19/30\n",
      "100/100 [==============================] - 0s 2ms/step - loss: 0.1326 - acc: 0.9535 - val_loss: 0.2414 - val_acc: 0.8940\n",
      "Epoch 20/30\n",
      "100/100 [==============================] - 0s 2ms/step - loss: 0.1324 - acc: 0.9545 - val_loss: 0.2399 - val_acc: 0.9000\n",
      "Epoch 21/30\n",
      "100/100 [==============================] - 0s 2ms/step - loss: 0.1233 - acc: 0.9590 - val_loss: 0.2486 - val_acc: 0.8920\n",
      "Epoch 22/30\n",
      "100/100 [==============================] - 0s 2ms/step - loss: 0.1132 - acc: 0.9660 - val_loss: 0.2368 - val_acc: 0.9020\n",
      "Epoch 23/30\n",
      "100/100 [==============================] - 0s 2ms/step - loss: 0.1111 - acc: 0.9670 - val_loss: 0.2471 - val_acc: 0.8950\n",
      "Epoch 24/30\n",
      "100/100 [==============================] - 0s 2ms/step - loss: 0.1150 - acc: 0.9620 - val_loss: 0.2364 - val_acc: 0.9020\n",
      "Epoch 25/30\n",
      "100/100 [==============================] - 0s 2ms/step - loss: 0.1075 - acc: 0.9670 - val_loss: 0.2453 - val_acc: 0.8940\n",
      "Epoch 26/30\n",
      "100/100 [==============================] - 0s 2ms/step - loss: 0.0971 - acc: 0.9720 - val_loss: 0.2436 - val_acc: 0.8960\n",
      "Epoch 27/30\n",
      "100/100 [==============================] - 0s 2ms/step - loss: 0.0990 - acc: 0.9680 - val_loss: 0.2380 - val_acc: 0.9020\n",
      "Epoch 28/30\n",
      "100/100 [==============================] - 0s 2ms/step - loss: 0.0932 - acc: 0.9700 - val_loss: 0.2533 - val_acc: 0.8920\n",
      "Epoch 29/30\n",
      "100/100 [==============================] - 0s 2ms/step - loss: 0.0872 - acc: 0.9750 - val_loss: 0.2395 - val_acc: 0.9020\n",
      "Epoch 30/30\n",
      "100/100 [==============================] - 0s 2ms/step - loss: 0.0835 - acc: 0.9750 - val_loss: 0.2406 - val_acc: 0.9000\n"
     ]
    }
   ],
   "source": [
    "from tensorflow.keras import models\n",
    "from tensorflow.keras import layers\n",
    "from tensorflow.keras import optimizers\n",
    "\n",
    "model = models.Sequential()\n",
    "model.add(layers.Dense(256, activation='relu', input_dim = 4 * 4 * 512))\n",
    "model.add(layers.Dropout(0.5))\n",
    "model.add(layers.Dense(1, activation='sigmoid'))\n",
    "\n",
    "model.compile(optimizer=optimizers.RMSprop(lr=2e-5),\n",
    "             loss='binary_crossentropy',\n",
    "             metrics=['acc'])\n",
    "\n",
    "history = model.fit(train_features, train_labels,\n",
    "                   epochs=30,\n",
    "                   batch_size=20,\n",
    "                   validation_data=(validation_features, validation_labels))"
   ]
  },
  {
   "cell_type": "code",
   "execution_count": 21,
   "metadata": {},
   "outputs": [
    {
     "data": {
      "image/png": "[encoded data removed]",
      "text/plain": [
       "<Figure size 432x288 with 1 Axes>"
      ]
     },
     "metadata": {
      "needs_background": "light"
     },
     "output_type": "display_data"
    },
    {
     "data": {
      "image/png": "[encoded data removed]",
      "text/plain": [
       "<Figure size 432x288 with 1 Axes>"
      ]
     },
     "metadata": {
      "needs_background": "light"
     },
     "output_type": "display_data"
    }
   ],
   "source": [
    "import matplotlib.pyplot as plt\n",
    "\n",
    "acc = history.history['acc']\n",
    "val_acc = history.history['val_acc']\n",
    "loss = history.history['loss']\n",
    "val_loss = history.history['val_loss']\n",
    "\n",
    "epochs = range(1, len(acc) + 1)\n",
    "\n",
    "plt.plot(epochs, acc, 'bo', label='Training acc')\n",
    "plt.plot(epochs, val_acc, 'b', label='Validation acc')\n",
    "plt.title(\"Training and validation accuracy\")\n",
    "plt.legend()\n",
    "\n",
    "plt.figure()\n",
    "plt.plot(epochs, loss, 'bo', label='Training loss')\n",
    "plt.plot(epochs, val_loss, 'b', label='Validaiton loss')\n",
    "plt.title('Training and validation loss')\n",
    "plt.legend()\n",
    "\n",
    "plt.show()"
   ]
  },
  {
   "cell_type": "markdown",
   "metadata": {},
   "source": [
    "## 데이터 증식을 사용한 Feature 추출"
   ]
  },
  {
   "cell_type": "markdown",
   "metadata": {},
   "source": [
    "### 코드 5-20 합성곱 기반 층 위에 완전 연결 분류기 추가"
   ]
  },
  {
   "cell_type": "code",
   "execution_count": 22,
   "metadata": {},
   "outputs": [],
   "source": [
    "from tensorflow.keras import models\n",
    "from tensorflow.keras import layers\n",
    "\n",
    "model = models.Sequential()\n",
    "model.add(conv_base)\n",
    "model.add(layers.Flatten())\n",
    "model.add(layers.Dense(256, activation='relu'))\n",
    "model.add(layers.Dense(1, activation='sigmoid'))"
   ]
  },
  {
   "cell_type": "code",
   "execution_count": 23,
   "metadata": {},
   "outputs": [
    {
     "name": "stdout",
     "output_type": "stream",
     "text": [
      "Model: \"sequential_4\"\n",
      "_________________________________________________________________\n",
      "Layer (type)                 Output Shape              Param #   \n",
      "=================================================================\n",
      "vgg16 (Model)                (None, 4, 4, 512)         14714688  \n",
      "_________________________________________________________________\n",
      "flatten_1 (Flatten)          (None, 8192)              0         \n",
      "_________________________________________________________________\n",
      "dense_8 (Dense)              (None, 256)               2097408   \n",
      "_________________________________________________________________\n",
      "dense_9 (Dense)              (None, 1)                 257       \n",
      "=================================================================\n",
      "Total params: 16,812,353\n",
      "Trainable params: 16,812,353\n",
      "Non-trainable params: 0\n",
      "_________________________________________________________________\n"
     ]
    }
   ],
   "source": [
    "model.summary()"
   ]
  },
  {
   "cell_type": "markdown",
   "metadata": {},
   "source": [
    "모델을 컴파일하고 훈련하기 전 합성곱 기반 층을 동결하는 것이 아주 중요.<br>\n",
    "동결 = 가중치 업데이트가 되지 않도록 막음<br>\n",
    "동결하지 않을 경우 합성곱 기반 층에 의해 사전에 학습된 표현이 훈련하는 동안 수정 됨<br>\n",
    "맨 위의 Dense 층은 랜덤하게 초기화되었기 때문에 매우 큰 가중치 업데이트 값이 네트워크에 전파 => 사전 학습된 표현을 크게 훼손"
   ]
  },
  {
   "cell_type": "code",
   "execution_count": 24,
   "metadata": {},
   "outputs": [
    {
     "name": "stdout",
     "output_type": "stream",
     "text": [
      "conv_base를 동결하기 전 훈련되는 가중치의 수: 30\n"
     ]
    }
   ],
   "source": [
    "print ('conv_base를 동결하기 전 훈련되는 가중치의 수:', len(model.trainable_weights))"
   ]
  },
  {
   "cell_type": "code",
   "execution_count": 25,
   "metadata": {},
   "outputs": [],
   "source": [
    "conv_base.trainable = False"
   ]
  },
  {
   "cell_type": "code",
   "execution_count": 26,
   "metadata": {},
   "outputs": [
    {
     "name": "stdout",
     "output_type": "stream",
     "text": [
      "conv_base를 동결한 후 훈련되는 가중치의 수: 4\n"
     ]
    }
   ],
   "source": [
    "print('conv_base를 동결한 후 훈련되는 가중치의 수:', len(model.trainable_weights))"
   ]
  },
  {
   "cell_type": "markdown",
   "metadata": {},
   "source": [
    "위와 같이 설정할 경우 추가한 2개의 Dense 층의 가중치만 훈련 됨<br>\n",
    "층마다 2개씩(가중ㅇ치 행렬과 편향 벡터) 총 4개의 텐서가 훈련됨<br>\n",
    "변경 사항 적용은 모델을 컴파일해야함"
   ]
  },
  {
   "cell_type": "code",
   "execution_count": 27,
   "metadata": {},
   "outputs": [
    {
     "name": "stdout",
     "output_type": "stream",
     "text": [
      "Found 2000 images belonging to 2 classes.\n",
      "Found 1000 images belonging to 2 classes.\n",
      "WARNING:tensorflow:From <ipython-input-27-6bee7d889d5f>:39: Model.fit_generator (from tensorflow.python.keras.engine.training) is deprecated and will be removed in a future version.\n",
      "Instructions for updating:\n",
      "Please use Model.fit, which supports generators.\n",
      "Epoch 1/30\n",
      "100/100 [==============================] - 11s 112ms/step - loss: 0.6129 - acc: 0.6595 - val_loss: 0.4824 - val_acc: 0.8030\n",
      "Epoch 2/30\n",
      "100/100 [==============================] - 11s 109ms/step - loss: 0.4850 - acc: 0.7805 - val_loss: 0.3783 - val_acc: 0.8520\n",
      "Epoch 3/30\n",
      "100/100 [==============================] - 11s 108ms/step - loss: 0.4429 - acc: 0.8060 - val_loss: 0.3358 - val_acc: 0.8730\n",
      "Epoch 4/30\n",
      "100/100 [==============================] - 11s 108ms/step - loss: 0.4011 - acc: 0.8230 - val_loss: 0.3069 - val_acc: 0.8790\n",
      "Epoch 5/30\n",
      "100/100 [==============================] - 11s 108ms/step - loss: 0.3889 - acc: 0.8185 - val_loss: 0.3025 - val_acc: 0.8780\n",
      "Epoch 6/30\n",
      "100/100 [==============================] - 11s 108ms/step - loss: 0.3565 - acc: 0.8420 - val_loss: 0.3046 - val_acc: 0.8770\n",
      "Epoch 7/30\n",
      "100/100 [==============================] - 11s 109ms/step - loss: 0.3431 - acc: 0.8515 - val_loss: 0.2770 - val_acc: 0.8960\n",
      "Epoch 8/30\n",
      "100/100 [==============================] - 11s 109ms/step - loss: 0.3533 - acc: 0.8525 - val_loss: 0.2736 - val_acc: 0.8850\n",
      "Epoch 9/30\n",
      "100/100 [==============================] - 11s 109ms/step - loss: 0.3436 - acc: 0.8550 - val_loss: 0.2699 - val_acc: 0.8870\n",
      "Epoch 10/30\n",
      "100/100 [==============================] - 11s 108ms/step - loss: 0.3378 - acc: 0.8485 - val_loss: 0.2638 - val_acc: 0.8800\n",
      "Epoch 11/30\n",
      "100/100 [==============================] - 11s 108ms/step - loss: 0.3215 - acc: 0.8675 - val_loss: 0.2677 - val_acc: 0.8880\n",
      "Epoch 12/30\n",
      "100/100 [==============================] - 11s 108ms/step - loss: 0.3254 - acc: 0.8590 - val_loss: 0.2509 - val_acc: 0.8970\n",
      "Epoch 13/30\n",
      "100/100 [==============================] - 11s 108ms/step - loss: 0.3211 - acc: 0.8625 - val_loss: 0.2592 - val_acc: 0.8960\n",
      "Epoch 14/30\n",
      "100/100 [==============================] - 11s 108ms/step - loss: 0.3076 - acc: 0.8705 - val_loss: 0.2447 - val_acc: 0.9020\n",
      "Epoch 15/30\n",
      "100/100 [==============================] - 11s 108ms/step - loss: 0.3101 - acc: 0.8585 - val_loss: 0.2646 - val_acc: 0.8820\n",
      "Epoch 16/30\n",
      "100/100 [==============================] - 11s 108ms/step - loss: 0.3105 - acc: 0.8680 - val_loss: 0.2517 - val_acc: 0.8870\n",
      "Epoch 17/30\n",
      "100/100 [==============================] - 11s 108ms/step - loss: 0.3022 - acc: 0.8690 - val_loss: 0.2469 - val_acc: 0.9010\n",
      "Epoch 18/30\n",
      "100/100 [==============================] - 11s 108ms/step - loss: 0.3124 - acc: 0.8610 - val_loss: 0.2507 - val_acc: 0.8920\n",
      "Epoch 19/30\n",
      "100/100 [==============================] - 11s 108ms/step - loss: 0.3104 - acc: 0.8680 - val_loss: 0.2494 - val_acc: 0.8980\n",
      "Epoch 20/30\n",
      "100/100 [==============================] - 11s 108ms/step - loss: 0.3062 - acc: 0.8650 - val_loss: 0.2415 - val_acc: 0.9000\n",
      "Epoch 21/30\n",
      "100/100 [==============================] - 11s 108ms/step - loss: 0.2882 - acc: 0.8785 - val_loss: 0.2464 - val_acc: 0.9000\n",
      "Epoch 22/30\n",
      "100/100 [==============================] - 11s 108ms/step - loss: 0.2929 - acc: 0.8745 - val_loss: 0.2548 - val_acc: 0.8880\n",
      "Epoch 23/30\n",
      "100/100 [==============================] - 11s 107ms/step - loss: 0.2804 - acc: 0.8815 - val_loss: 0.2575 - val_acc: 0.8960\n",
      "Epoch 24/30\n",
      "100/100 [==============================] - 11s 108ms/step - loss: 0.2768 - acc: 0.8875 - val_loss: 0.2216 - val_acc: 0.9180\n",
      "Epoch 25/30\n",
      "100/100 [==============================] - 11s 108ms/step - loss: 0.2914 - acc: 0.8715 - val_loss: 0.2458 - val_acc: 0.9000\n",
      "Epoch 26/30\n",
      "100/100 [==============================] - 11s 108ms/step - loss: 0.2883 - acc: 0.8855 - val_loss: 0.2466 - val_acc: 0.9100\n",
      "Epoch 27/30\n",
      "100/100 [==============================] - 11s 108ms/step - loss: 0.2859 - acc: 0.8720 - val_loss: 0.2484 - val_acc: 0.8980\n",
      "Epoch 28/30\n",
      "100/100 [==============================] - 11s 108ms/step - loss: 0.2786 - acc: 0.8810 - val_loss: 0.2243 - val_acc: 0.9030\n",
      "Epoch 29/30\n",
      "100/100 [==============================] - 11s 108ms/step - loss: 0.2815 - acc: 0.8775 - val_loss: 0.2627 - val_acc: 0.8990\n",
      "Epoch 30/30\n",
      "100/100 [==============================] - 11s 108ms/step - loss: 0.2575 - acc: 0.8925 - val_loss: 0.2499 - val_acc: 0.9180\n"
     ]
    }
   ],
   "source": [
    "from tensorflow.keras.preprocessing.image import ImageDataGenerator\n",
    "from tensorflow.keras import optimizers\n",
    "\n",
    "train_datagen = ImageDataGenerator(\n",
    "    rescale=1./255,\n",
    "    rotation_range = 40,\n",
    "    width_shift_range = 0.2,\n",
    "    height_shift_range = 0.2,\n",
    "    shear_range = 0.2,\n",
    "    zoom_range = 0.2,\n",
    "    horizontal_flip = True,\n",
    "    fill_mode = 'nearest')\n",
    "\n",
    "# 검증 데이터는 증식되어서는 안됨!\n",
    "test_datagen = ImageDataGenerator(rescale=1./255)\n",
    "\n",
    "train_generator = train_datagen.flow_from_directory(\n",
    "    train_dir,\n",
    "    target_size=(150, 150),\n",
    "    batch_size = 20,\n",
    "    # binary_crossentropy 손실을 사용하므로 이진 레이블이 필요\n",
    "    class_mode = 'binary')\n",
    "\n",
    "validation_generator = test_datagen.flow_from_directory(\n",
    "    validation_dir,\n",
    "    target_size=(150, 150),\n",
    "    batch_size = 20,\n",
    "    class_mode = 'binary')\n",
    "\n",
    "model.compile(loss='binary_crossentropy',\n",
    "             optimizer=optimizers.RMSprop(lr=2e-5),\n",
    "             metrics=['acc'])\n",
    "\n",
    "history = model.fit_generator(\n",
    "    train_generator,\n",
    "    steps_per_epoch=100,\n",
    "    epochs=30,\n",
    "    validation_data=validation_generator,\n",
    "    validation_steps=50)"
   ]
  },
  {
   "cell_type": "code",
   "execution_count": 28,
   "metadata": {},
   "outputs": [
    {
     "data": {
      "image/png": "[encoded data removed]",
      "text/plain": [
       "<Figure size 432x288 with 1 Axes>"
      ]
     },
     "metadata": {
      "needs_background": "light"
     },
     "output_type": "display_data"
    },
    {
     "data": {
      "image/png": "[encoded data removed]",
      "text/plain": [
       "<Figure size 432x288 with 1 Axes>"
      ]
     },
     "metadata": {
      "needs_background": "light"
     },
     "output_type": "display_data"
    }
   ],
   "source": [
    "acc = history.history['acc']\n",
    "val_acc = history.history['val_acc']\n",
    "loss = history.history['loss']\n",
    "val_loss = history.history['val_loss']\n",
    "\n",
    "epcohs = range(1, len(acc) + 1)\n",
    "\n",
    "plt.plot(epochs, acc, 'go', label='Training Accruacy')\n",
    "plt.plot(epochs, val_acc, 'y', label='Validation Accuracy')\n",
    "plt.title('Training and Validation Accuracy')\n",
    "plt.legend()\n",
    "plt.figure()\n",
    "\n",
    "plt.plot(epochs, loss, 'go', label='Training loss')\n",
    "plt.plot(epochs, val_loss, 'y', label='Validation loss')\n",
    "plt.title('Training and Validation loss')\n",
    "plt.legend()\n",
    "plt.show()"
   ]
  },
  {
   "cell_type": "markdown",
   "metadata": {},
   "source": [
    "### 5.3.2 미세 조정"
   ]
  },
  {
   "cell_type": "markdown",
   "metadata": {},
   "source": [
    "모델을 재사용하는 데 널리 사용되는 또 하나의 기법은 특성 추출을 보완하는 미세 조정임<br>\n",
    "미세 조정은 특성 추출에 사용했던 동결 모델의 상위 층 몇개를 동결에서 해제하고<br>\n",
    "모델에 새로 추가한 층(여기선 완전 연결 분류기)과 함께 훈련하는 것<br>\n",
    "정확히는 재사용 모델의 표현을 일부 조정하기 때문에 미세 조정이라 함"
   ]
  },
  {
   "cell_type": "markdown",
   "metadata": {},
   "source": [
    "미세 조정 단계<br>\n",
    "1. 사전 훈련된 기반 네트워크 위에 새로운 네트워크 추가\n",
    "2. 기반 네트워크 동결\n",
    "3. 새로 추가한 네트워크 훈련\n",
    "4. 기반 네트워크에서 일부 층의 동결을 해제\n",
    "5. 동결을 해제한 층과 새로 추가한 층을 함께 훈련"
   ]
  },
  {
   "cell_type": "code",
   "execution_count": 29,
   "metadata": {},
   "outputs": [
    {
     "name": "stdout",
     "output_type": "stream",
     "text": [
      "Model: \"vgg16\"\n",
      "_________________________________________________________________\n",
      "Layer (type)                 Output Shape              Param #   \n",
      "=================================================================\n",
      "input_2 (InputLayer)         [(None, 150, 150, 3)]     0         \n",
      "_________________________________________________________________\n",
      "block1_conv1 (Conv2D)        (None, 150, 150, 64)      1792      \n",
      "_________________________________________________________________\n",
      "block1_conv2 (Conv2D)        (None, 150, 150, 64)      36928     \n",
      "_________________________________________________________________\n",
      "block1_pool (MaxPooling2D)   (None, 75, 75, 64)        0         \n",
      "_________________________________________________________________\n",
      "block2_conv1 (Conv2D)        (None, 75, 75, 128)       73856     \n",
      "_________________________________________________________________\n",
      "block2_conv2 (Conv2D)        (None, 75, 75, 128)       147584    \n",
      "_________________________________________________________________\n",
      "block2_pool (MaxPooling2D)   (None, 37, 37, 128)       0         \n",
      "_________________________________________________________________\n",
      "block3_conv1 (Conv2D)        (None, 37, 37, 256)       295168    \n",
      "_________________________________________________________________\n",
      "block3_conv2 (Conv2D)        (None, 37, 37, 256)       590080    \n",
      "_________________________________________________________________\n",
      "block3_conv3 (Conv2D)        (None, 37, 37, 256)       590080    \n",
      "_________________________________________________________________\n",
      "block3_pool (MaxPooling2D)   (None, 18, 18, 256)       0         \n",
      "_________________________________________________________________\n",
      "block4_conv1 (Conv2D)        (None, 18, 18, 512)       1180160   \n",
      "_________________________________________________________________\n",
      "block4_conv2 (Conv2D)        (None, 18, 18, 512)       2359808   \n",
      "_________________________________________________________________\n",
      "block4_conv3 (Conv2D)        (None, 18, 18, 512)       2359808   \n",
      "_________________________________________________________________\n",
      "block4_pool (MaxPooling2D)   (None, 9, 9, 512)         0         \n",
      "_________________________________________________________________\n",
      "block5_conv1 (Conv2D)        (None, 9, 9, 512)         2359808   \n",
      "_________________________________________________________________\n",
      "block5_conv2 (Conv2D)        (None, 9, 9, 512)         2359808   \n",
      "_________________________________________________________________\n",
      "block5_conv3 (Conv2D)        (None, 9, 9, 512)         2359808   \n",
      "_________________________________________________________________\n",
      "block5_pool (MaxPooling2D)   (None, 4, 4, 512)         0         \n",
      "=================================================================\n",
      "Total params: 14,714,688\n",
      "Trainable params: 0\n",
      "Non-trainable params: 14,714,688\n",
      "_________________________________________________________________\n"
     ]
    }
   ],
   "source": [
    "conv_base.summary()"
   ]
  },
  {
   "cell_type": "markdown",
   "metadata": {},
   "source": [
    "### 코드 5-22 특정 층까지 모든 층 동결 (왜 block5_conv1만 동결 해제하는지 이해가 안가네)"
   ]
  },
  {
   "cell_type": "code",
   "execution_count": 30,
   "metadata": {},
   "outputs": [],
   "source": [
    "conv_base.trainable = True\n",
    "\n",
    "set_trainable = False\n",
    "for layer in conv_base.layers:\n",
    "    if layer.name == \"block5_conv1\":\n",
    "        set_trainable = True\n",
    "    if set_trainable:\n",
    "        layer.trainable = True\n",
    "    else:\n",
    "        layer.trainable = False"
   ]
  },
  {
   "cell_type": "markdown",
   "metadata": {},
   "source": [
    "### 코드 5-23 모델 미세 조정 (steps_per_epoch는 데이터 증식할 때 필요)"
   ]
  },
  {
   "cell_type": "code",
   "execution_count": 31,
   "metadata": {},
   "outputs": [
    {
     "name": "stdout",
     "output_type": "stream",
     "text": [
      "Epoch 1/100\n",
      "100/100 [==============================] - 11s 110ms/step - loss: 0.2852 - acc: 0.8755 - val_loss: 0.3770 - val_acc: 0.8490\n",
      "Epoch 2/100\n",
      "100/100 [==============================] - 11s 108ms/step - loss: 0.2532 - acc: 0.8935 - val_loss: 0.2092 - val_acc: 0.9190\n",
      "Epoch 3/100\n",
      "100/100 [==============================] - 11s 110ms/step - loss: 0.2293 - acc: 0.9060 - val_loss: 0.2064 - val_acc: 0.9150\n",
      "Epoch 4/100\n",
      "100/100 [==============================] - 11s 111ms/step - loss: 0.2358 - acc: 0.8980 - val_loss: 0.2256 - val_acc: 0.9170\n",
      "Epoch 5/100\n",
      "100/100 [==============================] - 11s 110ms/step - loss: 0.2114 - acc: 0.9170 - val_loss: 0.1958 - val_acc: 0.9240\n",
      "Epoch 6/100\n",
      "100/100 [==============================] - 11s 108ms/step - loss: 0.1846 - acc: 0.9260 - val_loss: 0.2025 - val_acc: 0.9280\n",
      "Epoch 7/100\n",
      "100/100 [==============================] - 11s 109ms/step - loss: 0.1922 - acc: 0.9210 - val_loss: 0.1699 - val_acc: 0.9320\n",
      "Epoch 8/100\n",
      "100/100 [==============================] - 11s 108ms/step - loss: 0.1792 - acc: 0.9245 - val_loss: 0.1973 - val_acc: 0.9290\n",
      "Epoch 9/100\n",
      "100/100 [==============================] - 11s 108ms/step - loss: 0.1503 - acc: 0.9415 - val_loss: 0.1901 - val_acc: 0.9270\n",
      "Epoch 10/100\n",
      "100/100 [==============================] - 11s 108ms/step - loss: 0.1518 - acc: 0.9465 - val_loss: 0.2077 - val_acc: 0.9280\n",
      "Epoch 11/100\n",
      "100/100 [==============================] - 11s 108ms/step - loss: 0.1490 - acc: 0.9395 - val_loss: 0.2019 - val_acc: 0.9310\n",
      "Epoch 12/100\n",
      "100/100 [==============================] - 11s 108ms/step - loss: 0.1307 - acc: 0.9510 - val_loss: 0.1895 - val_acc: 0.9280\n",
      "Epoch 13/100\n",
      "100/100 [==============================] - 11s 108ms/step - loss: 0.1354 - acc: 0.9440 - val_loss: 0.2056 - val_acc: 0.9270\n",
      "Epoch 14/100\n",
      "100/100 [==============================] - 11s 108ms/step - loss: 0.1251 - acc: 0.9485 - val_loss: 0.2039 - val_acc: 0.9260\n",
      "Epoch 15/100\n",
      "100/100 [==============================] - 11s 108ms/step - loss: 0.1336 - acc: 0.9520 - val_loss: 0.1934 - val_acc: 0.9320\n",
      "Epoch 16/100\n",
      "100/100 [==============================] - 11s 108ms/step - loss: 0.1190 - acc: 0.9520 - val_loss: 0.1884 - val_acc: 0.9250\n",
      "Epoch 17/100\n",
      "100/100 [==============================] - 11s 108ms/step - loss: 0.1133 - acc: 0.9520 - val_loss: 0.2111 - val_acc: 0.9280\n",
      "Epoch 18/100\n",
      "100/100 [==============================] - 11s 108ms/step - loss: 0.1135 - acc: 0.9605 - val_loss: 0.2034 - val_acc: 0.9260\n",
      "Epoch 19/100\n",
      "100/100 [==============================] - 11s 108ms/step - loss: 0.1005 - acc: 0.9615 - val_loss: 0.1894 - val_acc: 0.9350\n",
      "Epoch 20/100\n",
      "100/100 [==============================] - 11s 108ms/step - loss: 0.1034 - acc: 0.9590 - val_loss: 0.2061 - val_acc: 0.9270\n",
      "Epoch 21/100\n",
      "100/100 [==============================] - 11s 108ms/step - loss: 0.0840 - acc: 0.9630 - val_loss: 0.3241 - val_acc: 0.9120\n",
      "Epoch 22/100\n",
      "100/100 [==============================] - 11s 108ms/step - loss: 0.1003 - acc: 0.9655 - val_loss: 0.2145 - val_acc: 0.9230\n",
      "Epoch 23/100\n",
      "100/100 [==============================] - 11s 108ms/step - loss: 0.0878 - acc: 0.9700 - val_loss: 0.1816 - val_acc: 0.9310\n",
      "Epoch 24/100\n",
      "100/100 [==============================] - 11s 108ms/step - loss: 0.0822 - acc: 0.9665 - val_loss: 0.1902 - val_acc: 0.9410\n",
      "Epoch 25/100\n",
      "100/100 [==============================] - 11s 108ms/step - loss: 0.0862 - acc: 0.9695 - val_loss: 0.2168 - val_acc: 0.9280\n",
      "Epoch 26/100\n",
      "100/100 [==============================] - 11s 108ms/step - loss: 0.0828 - acc: 0.9680 - val_loss: 0.1903 - val_acc: 0.9400\n",
      "Epoch 27/100\n",
      "100/100 [==============================] - 11s 108ms/step - loss: 0.0770 - acc: 0.9730 - val_loss: 0.2125 - val_acc: 0.9300\n",
      "Epoch 28/100\n",
      "100/100 [==============================] - 11s 107ms/step - loss: 0.0768 - acc: 0.9710 - val_loss: 0.1899 - val_acc: 0.9310\n",
      "Epoch 29/100\n",
      "100/100 [==============================] - 11s 108ms/step - loss: 0.0662 - acc: 0.9725 - val_loss: 0.2210 - val_acc: 0.9230\n",
      "Epoch 30/100\n",
      "100/100 [==============================] - 11s 108ms/step - loss: 0.0791 - acc: 0.9740 - val_loss: 0.2000 - val_acc: 0.9340\n",
      "Epoch 31/100\n",
      "100/100 [==============================] - 11s 107ms/step - loss: 0.0632 - acc: 0.9770 - val_loss: 0.2191 - val_acc: 0.9350\n",
      "Epoch 32/100\n",
      "100/100 [==============================] - 11s 108ms/step - loss: 0.0607 - acc: 0.9785 - val_loss: 0.2019 - val_acc: 0.9340\n",
      "Epoch 33/100\n",
      "100/100 [==============================] - 11s 108ms/step - loss: 0.0521 - acc: 0.9830 - val_loss: 0.2287 - val_acc: 0.9360\n",
      "Epoch 34/100\n",
      "100/100 [==============================] - 11s 108ms/step - loss: 0.0648 - acc: 0.9750 - val_loss: 0.1982 - val_acc: 0.9410\n",
      "Epoch 35/100\n",
      "100/100 [==============================] - 11s 108ms/step - loss: 0.0681 - acc: 0.9735 - val_loss: 0.2096 - val_acc: 0.9290\n",
      "Epoch 36/100\n",
      "100/100 [==============================] - 11s 108ms/step - loss: 0.0557 - acc: 0.9770 - val_loss: 0.2110 - val_acc: 0.9370\n",
      "Epoch 37/100\n",
      "100/100 [==============================] - 11s 108ms/step - loss: 0.0599 - acc: 0.9770 - val_loss: 0.2136 - val_acc: 0.9390\n",
      "Epoch 38/100\n",
      "100/100 [==============================] - 11s 108ms/step - loss: 0.0522 - acc: 0.9815 - val_loss: 0.2059 - val_acc: 0.9390\n",
      "Epoch 39/100\n",
      "100/100 [==============================] - 11s 108ms/step - loss: 0.0552 - acc: 0.9790 - val_loss: 0.2291 - val_acc: 0.9330\n",
      "Epoch 40/100\n",
      "100/100 [==============================] - 11s 108ms/step - loss: 0.0525 - acc: 0.9855 - val_loss: 0.2347 - val_acc: 0.9230\n",
      "Epoch 41/100\n",
      "100/100 [==============================] - 11s 108ms/step - loss: 0.0494 - acc: 0.9790 - val_loss: 0.1878 - val_acc: 0.9330\n",
      "Epoch 42/100\n",
      "100/100 [==============================] - 11s 108ms/step - loss: 0.0660 - acc: 0.9745 - val_loss: 0.2106 - val_acc: 0.9390\n",
      "Epoch 43/100\n",
      "100/100 [==============================] - 11s 108ms/step - loss: 0.0453 - acc: 0.9830 - val_loss: 0.2845 - val_acc: 0.9230\n",
      "Epoch 44/100\n",
      "100/100 [==============================] - 11s 108ms/step - loss: 0.0390 - acc: 0.9875 - val_loss: 0.1874 - val_acc: 0.9380\n",
      "Epoch 45/100\n",
      "100/100 [==============================] - 11s 108ms/step - loss: 0.0366 - acc: 0.9860 - val_loss: 0.2283 - val_acc: 0.9410\n",
      "Epoch 46/100\n",
      "100/100 [==============================] - 11s 108ms/step - loss: 0.0438 - acc: 0.9840 - val_loss: 0.2414 - val_acc: 0.9300\n",
      "Epoch 47/100\n",
      "100/100 [==============================] - 11s 109ms/step - loss: 0.0416 - acc: 0.9860 - val_loss: 0.2953 - val_acc: 0.9230\n",
      "Epoch 48/100\n",
      "100/100 [==============================] - 11s 109ms/step - loss: 0.0505 - acc: 0.9815 - val_loss: 0.3282 - val_acc: 0.9170\n",
      "Epoch 49/100\n",
      "100/100 [==============================] - 11s 109ms/step - loss: 0.0460 - acc: 0.9855 - val_loss: 0.2098 - val_acc: 0.9390\n",
      "Epoch 50/100\n",
      "100/100 [==============================] - 11s 108ms/step - loss: 0.0395 - acc: 0.9850 - val_loss: 0.1955 - val_acc: 0.9380\n",
      "Epoch 51/100\n",
      "100/100 [==============================] - 11s 108ms/step - loss: 0.0398 - acc: 0.9870 - val_loss: 0.1976 - val_acc: 0.9360\n",
      "Epoch 52/100\n",
      "100/100 [==============================] - 11s 108ms/step - loss: 0.0396 - acc: 0.9850 - val_loss: 0.2322 - val_acc: 0.9380\n",
      "Epoch 53/100\n",
      "100/100 [==============================] - 11s 108ms/step - loss: 0.0385 - acc: 0.9855 - val_loss: 0.2556 - val_acc: 0.9260\n",
      "Epoch 54/100\n",
      "100/100 [==============================] - 11s 108ms/step - loss: 0.0322 - acc: 0.9870 - val_loss: 0.2683 - val_acc: 0.9350\n",
      "Epoch 55/100\n",
      "100/100 [==============================] - 11s 108ms/step - loss: 0.0466 - acc: 0.9840 - val_loss: 0.2385 - val_acc: 0.9350\n",
      "Epoch 56/100\n",
      "100/100 [==============================] - 11s 108ms/step - loss: 0.0310 - acc: 0.9900 - val_loss: 0.2843 - val_acc: 0.9370\n",
      "Epoch 57/100\n",
      "100/100 [==============================] - 11s 108ms/step - loss: 0.0356 - acc: 0.9880 - val_loss: 0.2263 - val_acc: 0.9380\n",
      "Epoch 58/100\n",
      "100/100 [==============================] - 11s 108ms/step - loss: 0.0354 - acc: 0.9870 - val_loss: 0.3432 - val_acc: 0.9230\n",
      "Epoch 59/100\n",
      "100/100 [==============================] - 11s 108ms/step - loss: 0.0220 - acc: 0.9945 - val_loss: 0.2047 - val_acc: 0.9450\n",
      "Epoch 60/100\n",
      "100/100 [==============================] - 11s 108ms/step - loss: 0.0345 - acc: 0.9890 - val_loss: 0.3729 - val_acc: 0.9130\n"
     ]
    },
    {
     "name": "stdout",
     "output_type": "stream",
     "text": [
      "Epoch 61/100\n",
      "100/100 [==============================] - 11s 108ms/step - loss: 0.0328 - acc: 0.9880 - val_loss: 0.3231 - val_acc: 0.9290\n",
      "Epoch 62/100\n",
      "100/100 [==============================] - 11s 108ms/step - loss: 0.0282 - acc: 0.9885 - val_loss: 0.2589 - val_acc: 0.9330\n",
      "Epoch 63/100\n",
      "100/100 [==============================] - 11s 108ms/step - loss: 0.0270 - acc: 0.9895 - val_loss: 0.2483 - val_acc: 0.9390\n",
      "Epoch 64/100\n",
      "100/100 [==============================] - 11s 108ms/step - loss: 0.0246 - acc: 0.9920 - val_loss: 0.3327 - val_acc: 0.9330\n",
      "Epoch 65/100\n",
      "100/100 [==============================] - 11s 108ms/step - loss: 0.0280 - acc: 0.9900 - val_loss: 0.2538 - val_acc: 0.9370\n",
      "Epoch 66/100\n",
      "100/100 [==============================] - 11s 108ms/step - loss: 0.0313 - acc: 0.9865 - val_loss: 0.2296 - val_acc: 0.9370\n",
      "Epoch 67/100\n",
      "100/100 [==============================] - 11s 109ms/step - loss: 0.0358 - acc: 0.9890 - val_loss: 0.3414 - val_acc: 0.9290\n",
      "Epoch 68/100\n",
      "100/100 [==============================] - 11s 108ms/step - loss: 0.0290 - acc: 0.9885 - val_loss: 0.3283 - val_acc: 0.9260\n",
      "Epoch 69/100\n",
      "100/100 [==============================] - 11s 108ms/step - loss: 0.0230 - acc: 0.9915 - val_loss: 0.2539 - val_acc: 0.9400\n",
      "Epoch 70/100\n",
      "100/100 [==============================] - 11s 108ms/step - loss: 0.0248 - acc: 0.9890 - val_loss: 0.2846 - val_acc: 0.9320\n",
      "Epoch 71/100\n",
      "100/100 [==============================] - 11s 109ms/step - loss: 0.0235 - acc: 0.9915 - val_loss: 0.3327 - val_acc: 0.9260\n",
      "Epoch 72/100\n",
      "100/100 [==============================] - 11s 109ms/step - loss: 0.0307 - acc: 0.9890 - val_loss: 0.2197 - val_acc: 0.9410\n",
      "Epoch 73/100\n",
      "100/100 [==============================] - 11s 109ms/step - loss: 0.0280 - acc: 0.9915 - val_loss: 0.2588 - val_acc: 0.9400\n",
      "Epoch 74/100\n",
      "100/100 [==============================] - 11s 109ms/step - loss: 0.0228 - acc: 0.9935 - val_loss: 0.2589 - val_acc: 0.9370\n",
      "Epoch 75/100\n",
      "100/100 [==============================] - 11s 109ms/step - loss: 0.0308 - acc: 0.9915 - val_loss: 0.2699 - val_acc: 0.9370\n",
      "Epoch 76/100\n",
      "100/100 [==============================] - 11s 109ms/step - loss: 0.0301 - acc: 0.9890 - val_loss: 0.2603 - val_acc: 0.9370\n",
      "Epoch 77/100\n",
      "100/100 [==============================] - 11s 109ms/step - loss: 0.0227 - acc: 0.9910 - val_loss: 0.2636 - val_acc: 0.9380\n",
      "Epoch 78/100\n",
      "100/100 [==============================] - 11s 110ms/step - loss: 0.0299 - acc: 0.9910 - val_loss: 0.3214 - val_acc: 0.9320\n",
      "Epoch 79/100\n",
      "100/100 [==============================] - 11s 108ms/step - loss: 0.0265 - acc: 0.9910 - val_loss: 0.2693 - val_acc: 0.9390\n",
      "Epoch 80/100\n",
      "100/100 [==============================] - 11s 108ms/step - loss: 0.0248 - acc: 0.9905 - val_loss: 0.2622 - val_acc: 0.9480\n",
      "Epoch 81/100\n",
      "100/100 [==============================] - 11s 108ms/step - loss: 0.0246 - acc: 0.9925 - val_loss: 0.1938 - val_acc: 0.9420\n",
      "Epoch 82/100\n",
      "100/100 [==============================] - 11s 108ms/step - loss: 0.0251 - acc: 0.9925 - val_loss: 0.3454 - val_acc: 0.9310\n",
      "Epoch 83/100\n",
      "100/100 [==============================] - 11s 108ms/step - loss: 0.0403 - acc: 0.9880 - val_loss: 0.2646 - val_acc: 0.9370\n",
      "Epoch 84/100\n",
      "100/100 [==============================] - 11s 108ms/step - loss: 0.0191 - acc: 0.9945 - val_loss: 0.2512 - val_acc: 0.9390\n",
      "Epoch 85/100\n",
      "100/100 [==============================] - 11s 108ms/step - loss: 0.0253 - acc: 0.9920 - val_loss: 0.2803 - val_acc: 0.9400\n",
      "Epoch 86/100\n",
      "100/100 [==============================] - 11s 108ms/step - loss: 0.0189 - acc: 0.9930 - val_loss: 0.3476 - val_acc: 0.9260\n",
      "Epoch 87/100\n",
      "100/100 [==============================] - 11s 108ms/step - loss: 0.0179 - acc: 0.9925 - val_loss: 0.3512 - val_acc: 0.9220\n",
      "Epoch 88/100\n",
      "100/100 [==============================] - 11s 108ms/step - loss: 0.0229 - acc: 0.9930 - val_loss: 0.3074 - val_acc: 0.9390\n",
      "Epoch 89/100\n",
      "100/100 [==============================] - 11s 109ms/step - loss: 0.0226 - acc: 0.9945 - val_loss: 0.3231 - val_acc: 0.9320\n",
      "Epoch 90/100\n",
      "100/100 [==============================] - 11s 108ms/step - loss: 0.0255 - acc: 0.9880 - val_loss: 0.2845 - val_acc: 0.9210\n",
      "Epoch 91/100\n",
      "100/100 [==============================] - 11s 108ms/step - loss: 0.0156 - acc: 0.9950 - val_loss: 0.2406 - val_acc: 0.9440\n",
      "Epoch 92/100\n",
      "100/100 [==============================] - 11s 108ms/step - loss: 0.0166 - acc: 0.9940 - val_loss: 0.2780 - val_acc: 0.9290\n",
      "Epoch 93/100\n",
      "100/100 [==============================] - 11s 108ms/step - loss: 0.0155 - acc: 0.9960 - val_loss: 0.2529 - val_acc: 0.9370\n",
      "Epoch 94/100\n",
      "100/100 [==============================] - 11s 108ms/step - loss: 0.0136 - acc: 0.9950 - val_loss: 0.4390 - val_acc: 0.9260\n",
      "Epoch 95/100\n",
      "100/100 [==============================] - 11s 107ms/step - loss: 0.0177 - acc: 0.9940 - val_loss: 0.3294 - val_acc: 0.9370\n",
      "Epoch 96/100\n",
      "100/100 [==============================] - 11s 108ms/step - loss: 0.0193 - acc: 0.9925 - val_loss: 0.2511 - val_acc: 0.9360\n",
      "Epoch 97/100\n",
      "100/100 [==============================] - 11s 108ms/step - loss: 0.0179 - acc: 0.9940 - val_loss: 0.3893 - val_acc: 0.9310\n",
      "Epoch 98/100\n",
      "100/100 [==============================] - 11s 108ms/step - loss: 0.0135 - acc: 0.9950 - val_loss: 0.3868 - val_acc: 0.9270\n",
      "Epoch 99/100\n",
      "100/100 [==============================] - 11s 108ms/step - loss: 0.0151 - acc: 0.9935 - val_loss: 0.2290 - val_acc: 0.9440\n",
      "Epoch 100/100\n",
      "100/100 [==============================] - 11s 108ms/step - loss: 0.0189 - acc: 0.9935 - val_loss: 0.3444 - val_acc: 0.9230\n"
     ]
    }
   ],
   "source": [
    "model.compile(loss='binary_crossentropy',\n",
    "             optimizer=optimizers.RMSprop(lr=1e-5),\n",
    "             metrics=['acc'])\n",
    "\n",
    "history = model.fit_generator(\n",
    "    train_generator,\n",
    "    steps_per_epoch=100,\n",
    "    epochs=100,\n",
    "    validation_data=validation_generator,\n",
    "    validation_steps=50)"
   ]
  },
  {
   "cell_type": "code",
   "execution_count": 35,
   "metadata": {},
   "outputs": [
    {
     "data": {
      "image/png": "[encoded data removed]",
      "text/plain": [
       "<Figure size 432x288 with 1 Axes>"
      ]
     },
     "metadata": {
      "needs_background": "light"
     },
     "output_type": "display_data"
    },
    {
     "data": {
      "image/png": "[encoded data removed]",
      "text/plain": [
       "<Figure size 432x288 with 1 Axes>"
      ]
     },
     "metadata": {
      "needs_background": "light"
     },
     "output_type": "display_data"
    }
   ],
   "source": [
    "acc = history.history['acc']\n",
    "val_acc = history.history['val_acc']\n",
    "loss = history.history['loss']\n",
    "val_loss = history.history['val_loss']\n",
    "\n",
    "epoch = range(1, len(acc) + 1)\n",
    "\n",
    "plt.plot(epoch, acc, 'go', label='Training Accuracy')\n",
    "plt.plot(epoch, val_acc, 'y', label='Vaildation Accuracy')\n",
    "plt.title('Training and Validation Accuracy')\n",
    "plt.legend()\n",
    "plt.figure()\n",
    "\n",
    "plt.plot(epoch, loss, 'go', label='Training loss')\n",
    "plt.plot(epoch, val_loss, 'y', label='Validation Accuracy')\n",
    "plt.title('Training and Validation loss')\n",
    "plt.legend()\n",
    "plt.show()"
   ]
  },
  {
   "cell_type": "markdown",
   "metadata": {},
   "source": [
    "### 코드 5-24 부드러운 그래프 그리기(지수 이동 평균)"
   ]
  },
  {
   "cell_type": "code",
   "execution_count": 43,
   "metadata": {},
   "outputs": [
    {
     "data": {
      "image/png": "[encoded data removed]",
      "text/plain": [
       "<Figure size 432x288 with 1 Axes>"
      ]
     },
     "metadata": {
      "needs_background": "light"
     },
     "output_type": "display_data"
    },
    {
     "data": {
      "image/png": "[encoded data removed]",
      "text/plain": [
       "<Figure size 432x288 with 1 Axes>"
      ]
     },
     "metadata": {
      "needs_background": "light"
     },
     "output_type": "display_data"
    }
   ],
   "source": [
    "def smoothed_curve(points, factor=0.8):\n",
    "    smoothed_points = []\n",
    "    for point in points:\n",
    "        if smoothed_points:\n",
    "            previous = smoothed_points[-1]\n",
    "            smoothed_points.append(previous * factor + point * (1 - factor))\n",
    "        else:\n",
    "            smoothed_points.append(point)\n",
    "    return smoothed_points\n",
    "\n",
    "plt.plot(epoch, smoothed_curve(acc), 'go', label='Smoothed training acc')\n",
    "plt.plot(epoch, smoothed_curve(val_acc), 'b', label='Smoothed validation acc')\n",
    "plt.title('Training and validation accuracy')\n",
    "plt.legend()\n",
    "\n",
    "plt.figure()\n",
    "plt.plot(epoch, smoothed_curve(loss), 'go', label='Smoothed training loss')\n",
    "plt.plot(epoch, smoothed_curve(val_loss), 'b', label='Smoothed validaiton loss')\n",
    "plt.legend()\n",
    "\n",
    "plt.show()"
   ]
  },
  {
   "cell_type": "code",
   "execution_count": 44,
   "metadata": {},
   "outputs": [
    {
     "name": "stdout",
     "output_type": "stream",
     "text": [
      "Found 1000 images belonging to 2 classes.\n",
      "test acc:  0.9399999976158142\n"
     ]
    }
   ],
   "source": [
    "test_generator = test_datagen.flow_from_directory(\n",
    "    test_dir,\n",
    "    target_size = (150, 150),\n",
    "    batch_size=20,\n",
    "    class_mode = 'binary')\n",
    "\n",
    "test_loss, test_acc = model.evaluate_generator(test_generator, steps=50)\n",
    "print('test acc: ', test_acc)"
   ]
  },
  {
   "cell_type": "code",
   "execution_count": null,
   "metadata": {},
   "outputs": [],
   "source": []
  }
 ],
 "metadata": {
  "kernelspec": {
   "display_name": "Python 3",
   "language": "python",
   "name": "python3"
  },
  "language_info": {
   "codemirror_mode": {
    "name": "ipython",
    "version": 3
   },
   "file_extension": ".py",
   "mimetype": "text/x-python",
   "name": "python",
   "nbconvert_exporter": "python",
   "pygments_lexer": "ipython3",
   "version": "3.7.7"
  }
 },
 "nbformat": 4,
 "nbformat_minor": 4
}
