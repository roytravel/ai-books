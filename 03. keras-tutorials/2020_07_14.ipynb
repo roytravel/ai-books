{
  "nbformat": 4,
  "nbformat_minor": 0,
  "metadata": {
    "colab": {
      "name": "2020-07-14.ipynb",
      "provenance": [],
      "collapsed_sections": []
    },
    "kernelspec": {
      "name": "python3",
      "display_name": "Python 3"
    }
  },
  "cells": [
    {
      "cell_type": "markdown",
      "metadata": {
        "id": "6bDQWuRq0tRR",
        "colab_type": "text"
      },
      "source": [
        "# 2.1 신경망과의 첫 만남"
      ]
    },
    {
      "cell_type": "markdown",
      "metadata": {
        "id": "dXazJoG10yAg",
        "colab_type": "text"
      },
      "source": [
        "## 코드 2-1 케라스에서 MNIST 데이터셋 적재하기"
      ]
    },
    {
      "cell_type": "code",
      "metadata": {
        "id": "PzXAILBSz4KX",
        "colab_type": "code",
        "colab": {}
      },
      "source": [
        "from keras.datasets import mnist\n",
        "(train_images, train_labels), (test_images, test_labels) = mnist.load_data()"
      ],
      "execution_count": 34,
      "outputs": []
    },
    {
      "cell_type": "markdown",
      "metadata": {
        "id": "0-7AffUQ0p2b",
        "colab_type": "text"
      },
      "source": [
        "### 훈련 데이터 확인"
      ]
    },
    {
      "cell_type": "code",
      "metadata": {
        "id": "2VY1QFAL0TE9",
        "colab_type": "code",
        "colab": {
          "base_uri": "https://localhost:8080/",
          "height": 34
        },
        "outputId": "59c107a8-91ae-4d1c-ee38-b5529d14c483"
      },
      "source": [
        "train_images.shape"
      ],
      "execution_count": 35,
      "outputs": [
        {
          "output_type": "execute_result",
          "data": {
            "text/plain": [
              "(60000, 28, 28)"
            ]
          },
          "metadata": {
            "tags": []
          },
          "execution_count": 35
        }
      ]
    },
    {
      "cell_type": "code",
      "metadata": {
        "id": "Hu0M7DyV0dol",
        "colab_type": "code",
        "colab": {
          "base_uri": "https://localhost:8080/",
          "height": 34
        },
        "outputId": "6a31d26c-61ee-4702-adde-5c3c1604efa7"
      },
      "source": [
        "len(train_labels)"
      ],
      "execution_count": 36,
      "outputs": [
        {
          "output_type": "execute_result",
          "data": {
            "text/plain": [
              "60000"
            ]
          },
          "metadata": {
            "tags": []
          },
          "execution_count": 36
        }
      ]
    },
    {
      "cell_type": "code",
      "metadata": {
        "id": "mFKEvMjS0fRM",
        "colab_type": "code",
        "colab": {
          "base_uri": "https://localhost:8080/",
          "height": 34
        },
        "outputId": "8e4638fd-bf52-4242-9b8a-4a895125bdf5"
      },
      "source": [
        "train_labels"
      ],
      "execution_count": 37,
      "outputs": [
        {
          "output_type": "execute_result",
          "data": {
            "text/plain": [
              "array([5, 0, 4, ..., 5, 6, 8], dtype=uint8)"
            ]
          },
          "metadata": {
            "tags": []
          },
          "execution_count": 37
        }
      ]
    },
    {
      "cell_type": "markdown",
      "metadata": {
        "id": "AtgpYMJF05o7",
        "colab_type": "text"
      },
      "source": [
        "### 테스트 데이터 확인"
      ]
    },
    {
      "cell_type": "code",
      "metadata": {
        "id": "dYyF70th0j5l",
        "colab_type": "code",
        "colab": {
          "base_uri": "https://localhost:8080/",
          "height": 34
        },
        "outputId": "dfe65e34-7198-4caf-afe8-70e7e9fa2501"
      },
      "source": [
        "test_images.shape"
      ],
      "execution_count": 38,
      "outputs": [
        {
          "output_type": "execute_result",
          "data": {
            "text/plain": [
              "(10000, 28, 28)"
            ]
          },
          "metadata": {
            "tags": []
          },
          "execution_count": 38
        }
      ]
    },
    {
      "cell_type": "code",
      "metadata": {
        "id": "1RC36GzX09St",
        "colab_type": "code",
        "colab": {
          "base_uri": "https://localhost:8080/",
          "height": 34
        },
        "outputId": "a76c4710-1f3a-409c-8780-19f096c294b4"
      },
      "source": [
        "len(test_labels)"
      ],
      "execution_count": 39,
      "outputs": [
        {
          "output_type": "execute_result",
          "data": {
            "text/plain": [
              "10000"
            ]
          },
          "metadata": {
            "tags": []
          },
          "execution_count": 39
        }
      ]
    },
    {
      "cell_type": "code",
      "metadata": {
        "id": "pUKZ2L8J0-_F",
        "colab_type": "code",
        "colab": {
          "base_uri": "https://localhost:8080/",
          "height": 34
        },
        "outputId": "7fec800e-c14f-4226-f826-ac6da0d9faae"
      },
      "source": [
        "test_labels"
      ],
      "execution_count": 40,
      "outputs": [
        {
          "output_type": "execute_result",
          "data": {
            "text/plain": [
              "array([7, 2, 1, ..., 4, 5, 6], dtype=uint8)"
            ]
          },
          "metadata": {
            "tags": []
          },
          "execution_count": 40
        }
      ]
    },
    {
      "cell_type": "markdown",
      "metadata": {
        "id": "I9XJB4iN1FwT",
        "colab_type": "text"
      },
      "source": [
        "## 코드 2-2 신경망 구조"
      ]
    },
    {
      "cell_type": "code",
      "metadata": {
        "id": "cRHyBrlb1OnU",
        "colab_type": "code",
        "colab": {}
      },
      "source": [
        "from keras import models\n",
        "from keras import layers\n",
        "\n",
        "network = models.Sequential()\n",
        "network.add(layers.Dense(512, activation='relu', input_shape=(28 * 28,)))\n",
        "network.add(layers.Dense(10, activation='softmax'))"
      ],
      "execution_count": 41,
      "outputs": []
    },
    {
      "cell_type": "markdown",
      "metadata": {
        "id": "HElLEWbB1_BW",
        "colab_type": "text"
      },
      "source": [
        "## 코드 2-3 컴파일 단계"
      ]
    },
    {
      "cell_type": "code",
      "metadata": {
        "id": "PdG10Rym2A2h",
        "colab_type": "code",
        "colab": {}
      },
      "source": [
        "network.compile(optimizer = 'rmsprop',\n",
        "                loss = 'categorical_crossentropy',\n",
        "                metrics=['accuracy'])"
      ],
      "execution_count": 42,
      "outputs": []
    },
    {
      "cell_type": "markdown",
      "metadata": {
        "id": "U0P-kPu22Qwx",
        "colab_type": "text"
      },
      "source": [
        "## 코드 2-4 이미지 데이터 준비하기 (여기 확실한 이해가 안됨)\n",
        "훈련 시작 전, 데이터를 네트워크에 맞는 크기로 바꾸고, 모든 값을 0과 1사이로 스케일을 조정.\n",
        "(60000, 28, 28) 크기의 배열을, 0과 1사이의 값을 가지는 float 타입의 (60000, 28 * 28)크기인 배열로 바꿈."
      ]
    },
    {
      "cell_type": "code",
      "metadata": {
        "id": "RxVezRgM2MAt",
        "colab_type": "code",
        "colab": {}
      },
      "source": [
        "train_images = train_images.reshape((60000, 28 * 28))\n",
        "train_images = train_images.astype('float32') / 255\n",
        "\n",
        "test_images = test_images.reshape((10000, 28 * 28))\n",
        "test_images = test_images.astype('float32') / 255"
      ],
      "execution_count": 43,
      "outputs": []
    },
    {
      "cell_type": "markdown",
      "metadata": {
        "id": "ZXj0yzcC4j4T",
        "colab_type": "text"
      },
      "source": [
        "## 코드 2-5 레이블 준비하기"
      ]
    },
    {
      "cell_type": "code",
      "metadata": {
        "id": "_sQWhIYZ4wK6",
        "colab_type": "code",
        "colab": {}
      },
      "source": [
        "from keras.utils import to_categorical\n",
        "\n",
        "train_labels = to_categorical(train_labels)\n",
        "test_labels = to_categorical(test_labels)"
      ],
      "execution_count": 44,
      "outputs": []
    },
    {
      "cell_type": "code",
      "metadata": {
        "id": "riTawd_G42J3",
        "colab_type": "code",
        "colab": {
          "base_uri": "https://localhost:8080/",
          "height": 204
        },
        "outputId": "80d61ae6-808e-478c-8f49-9e04bb17b9ec"
      },
      "source": [
        "network.fit(train_images, train_labels, epochs=5, batch_size = 128)"
      ],
      "execution_count": 45,
      "outputs": [
        {
          "output_type": "stream",
          "text": [
            "Epoch 1/5\n",
            "60000/60000 [==============================] - 4s 71us/step - loss: 0.2611 - accuracy: 0.9249\n",
            "Epoch 2/5\n",
            "60000/60000 [==============================] - 4s 71us/step - loss: 0.1052 - accuracy: 0.9691\n",
            "Epoch 3/5\n",
            "60000/60000 [==============================] - 4s 71us/step - loss: 0.0688 - accuracy: 0.9795\n",
            "Epoch 4/5\n",
            "60000/60000 [==============================] - 4s 72us/step - loss: 0.0506 - accuracy: 0.9848\n",
            "Epoch 5/5\n",
            "60000/60000 [==============================] - 4s 72us/step - loss: 0.0373 - accuracy: 0.9889\n"
          ],
          "name": "stdout"
        },
        {
          "output_type": "execute_result",
          "data": {
            "text/plain": [
              "<keras.callbacks.callbacks.History at 0x7f28c4e43cc0>"
            ]
          },
          "metadata": {
            "tags": []
          },
          "execution_count": 45
        }
      ]
    },
    {
      "cell_type": "code",
      "metadata": {
        "id": "61xza6Vi46CX",
        "colab_type": "code",
        "colab": {
          "base_uri": "https://localhost:8080/",
          "height": 68
        },
        "outputId": "3ec57fb1-a363-4eb1-8e62-d675552084ff"
      },
      "source": [
        "test_loss, test_acc = network.evaluate(test_images, test_labels)\n",
        "print ('test_accuacy: ', test_acc)\n",
        "print ('test_loss: ', test_loss)"
      ],
      "execution_count": 46,
      "outputs": [
        {
          "output_type": "stream",
          "text": [
            "10000/10000 [==============================] - 0s 46us/step\n",
            "test_accuacy:  0.9803000092506409\n",
            "test_loss:  0.06497137348912656\n"
          ],
          "name": "stdout"
        }
      ]
    },
    {
      "cell_type": "markdown",
      "metadata": {
        "id": "VSQgwlXM7ekz",
        "colab_type": "text"
      },
      "source": [
        "# 2.2 신경망을 위한 데이터 표현"
      ]
    },
    {
      "cell_type": "markdown",
      "metadata": {
        "id": "eqDmq3f577eL",
        "colab_type": "text"
      },
      "source": [
        "## 2.2.1 스칼라(0D 텐서)"
      ]
    },
    {
      "cell_type": "code",
      "metadata": {
        "id": "yZJa-03B7m0u",
        "colab_type": "code",
        "colab": {
          "base_uri": "https://localhost:8080/",
          "height": 34
        },
        "outputId": "9206686d-e609-4124-9b24-672fcabe40cf"
      },
      "source": [
        "import numpy as np\n",
        "x = np.array(12)\n",
        "x"
      ],
      "execution_count": 47,
      "outputs": [
        {
          "output_type": "execute_result",
          "data": {
            "text/plain": [
              "array(12)"
            ]
          },
          "metadata": {
            "tags": []
          },
          "execution_count": 47
        }
      ]
    },
    {
      "cell_type": "code",
      "metadata": {
        "id": "9NNVYdyM7pay",
        "colab_type": "code",
        "colab": {
          "base_uri": "https://localhost:8080/",
          "height": 34
        },
        "outputId": "1a50eee9-26cf-426c-f602-cf806dd2c4fe"
      },
      "source": [
        "x.ndim"
      ],
      "execution_count": 48,
      "outputs": [
        {
          "output_type": "execute_result",
          "data": {
            "text/plain": [
              "0"
            ]
          },
          "metadata": {
            "tags": []
          },
          "execution_count": 48
        }
      ]
    },
    {
      "cell_type": "markdown",
      "metadata": {
        "id": "CKQ3oexU8HAv",
        "colab_type": "text"
      },
      "source": [
        "### 2.2.2 벡터(1D 텐서)"
      ]
    },
    {
      "cell_type": "code",
      "metadata": {
        "id": "ppPsg3e38IZz",
        "colab_type": "code",
        "colab": {
          "base_uri": "https://localhost:8080/",
          "height": 34
        },
        "outputId": "fc983dc3-9872-4600-e465-b5e29f6ee60c"
      },
      "source": [
        "x = np.array([12, 3, 6, 14, 7])\n",
        "x"
      ],
      "execution_count": 50,
      "outputs": [
        {
          "output_type": "execute_result",
          "data": {
            "text/plain": [
              "array([12,  3,  6, 14,  7])"
            ]
          },
          "metadata": {
            "tags": []
          },
          "execution_count": 50
        }
      ]
    },
    {
      "cell_type": "code",
      "metadata": {
        "id": "9RlY9vim8Koz",
        "colab_type": "code",
        "colab": {
          "base_uri": "https://localhost:8080/",
          "height": 34
        },
        "outputId": "84abd851-7258-46c9-f5fd-ff05b4ce0bf2"
      },
      "source": [
        "x.ndim"
      ],
      "execution_count": 54,
      "outputs": [
        {
          "output_type": "execute_result",
          "data": {
            "text/plain": [
              "1"
            ]
          },
          "metadata": {
            "tags": []
          },
          "execution_count": 54
        }
      ]
    },
    {
      "cell_type": "markdown",
      "metadata": {
        "id": "BYsNx1XA8yGE",
        "colab_type": "text"
      },
      "source": [
        "### 2.2.3 행렬(2D 텐서)"
      ]
    },
    {
      "cell_type": "code",
      "metadata": {
        "id": "u07cJ2LM80ab",
        "colab_type": "code",
        "colab": {}
      },
      "source": [
        "x = np.array([[5, 78, 2, 34, 0],\n",
        "             [6, 79, 3, 35, 1],\n",
        "             [7, 80, 4, 36, 2]])"
      ],
      "execution_count": 58,
      "outputs": []
    },
    {
      "cell_type": "code",
      "metadata": {
        "id": "CU95qJ6i_MId",
        "colab_type": "code",
        "colab": {
          "base_uri": "https://localhost:8080/",
          "height": 34
        },
        "outputId": "06716864-d6bf-4c09-846b-79211a47b7f3"
      },
      "source": [
        "x.ndim"
      ],
      "execution_count": 59,
      "outputs": [
        {
          "output_type": "execute_result",
          "data": {
            "text/plain": [
              "2"
            ]
          },
          "metadata": {
            "tags": []
          },
          "execution_count": 59
        }
      ]
    },
    {
      "cell_type": "markdown",
      "metadata": {
        "id": "iyQYyMu7_bwH",
        "colab_type": "text"
      },
      "source": [
        "### 2.2.4 3D 텐서와 고차원 텐서"
      ]
    },
    {
      "cell_type": "code",
      "metadata": {
        "id": "_1w_EiuX_Td3",
        "colab_type": "code",
        "colab": {}
      },
      "source": [
        "x = np.array([[[5, 78, 2, 34, 0],\n",
        "               [6, 79, 3, 35, 1],\n",
        "               [7, 80, 4, 36, 2]],\n",
        "              [[5, 78, 2, 34, 0],\n",
        "               [6, 79, 3, 35, 1],\n",
        "               [7, 80, 4, 36, 2]],\n",
        "              [[5, 78, 2, 34, 0],\n",
        "               [6, 79, 3, 35, 1],\n",
        "               [7, 80, 4, 36, 2]]])"
      ],
      "execution_count": 60,
      "outputs": []
    },
    {
      "cell_type": "code",
      "metadata": {
        "id": "eGtextH9_dfT",
        "colab_type": "code",
        "colab": {
          "base_uri": "https://localhost:8080/",
          "height": 34
        },
        "outputId": "985292bf-7631-4646-bd38-ee5b9844f85f"
      },
      "source": [
        "x.ndim"
      ],
      "execution_count": 61,
      "outputs": [
        {
          "output_type": "execute_result",
          "data": {
            "text/plain": [
              "3"
            ]
          },
          "metadata": {
            "tags": []
          },
          "execution_count": 61
        }
      ]
    },
    {
      "cell_type": "markdown",
      "metadata": {
        "id": "8oX_xCkhB8X1",
        "colab_type": "text"
      },
      "source": [
        "### 2.2.5 핵심 속성"
      ]
    },
    {
      "cell_type": "code",
      "metadata": {
        "id": "w-yuv_yZB91g",
        "colab_type": "code",
        "colab": {}
      },
      "source": [
        "from keras.datasets import mnist\n",
        "(train_images, train_labels), (test_images, test_labels) = mnist.load_data()"
      ],
      "execution_count": 63,
      "outputs": []
    },
    {
      "cell_type": "code",
      "metadata": {
        "id": "_FLSoLj7CYD_",
        "colab_type": "code",
        "colab": {
          "base_uri": "https://localhost:8080/",
          "height": 34
        },
        "outputId": "f7b06224-2f47-4c7b-eb19-fe28e3ad6c86"
      },
      "source": [
        "print(train_images.ndim)"
      ],
      "execution_count": 64,
      "outputs": [
        {
          "output_type": "stream",
          "text": [
            "3\n"
          ],
          "name": "stdout"
        }
      ]
    },
    {
      "cell_type": "code",
      "metadata": {
        "id": "ZgYw6hvMCfw2",
        "colab_type": "code",
        "colab": {
          "base_uri": "https://localhost:8080/",
          "height": 34
        },
        "outputId": "21d3bf41-9905-4a25-ca93-13f8a919db97"
      },
      "source": [
        "print(train_images.shape)"
      ],
      "execution_count": 65,
      "outputs": [
        {
          "output_type": "stream",
          "text": [
            "(60000, 28, 28)\n"
          ],
          "name": "stdout"
        }
      ]
    },
    {
      "cell_type": "code",
      "metadata": {
        "id": "-rnkchqkCh8o",
        "colab_type": "code",
        "colab": {
          "base_uri": "https://localhost:8080/",
          "height": 34
        },
        "outputId": "d2798d06-eac6-4ef3-e55a-9336960ed2f4"
      },
      "source": [
        "print(train_images.dtype)"
      ],
      "execution_count": 66,
      "outputs": [
        {
          "output_type": "stream",
          "text": [
            "uint8\n"
          ],
          "name": "stdout"
        }
      ]
    },
    {
      "cell_type": "markdown",
      "metadata": {
        "id": "99yOzBM1DIUL",
        "colab_type": "text"
      },
      "source": [
        "## 코드 2.6 다섯 번째 이미지 출력하기"
      ]
    },
    {
      "cell_type": "code",
      "metadata": {
        "id": "XZ2E3161DJmw",
        "colab_type": "code",
        "colab": {
          "base_uri": "https://localhost:8080/",
          "height": 265
        },
        "outputId": "c2eb670c-8d3f-4ad9-e42d-5b7919dfc692"
      },
      "source": [
        "digit = train_images[4]\n",
        "\n",
        "from matplotlib import pyplot as plt\n",
        "plt.imshow(digit, cmap=plt.cm.binary)\n",
        "plt.show()"
      ],
      "execution_count": 73,
      "outputs": [
        {
          "output_type": "display_data",
          "data": {
            "image/png": "[encoded data removed]",
            "text/plain": [
              "<Figure size 432x288 with 1 Axes>"
            ]
          },
          "metadata": {
            "tags": [],
            "needs_background": "light"
          }
        }
      ]
    },
    {
      "cell_type": "markdown",
      "metadata": {
        "id": "UphppoVrECS6",
        "colab_type": "text"
      },
      "source": [
        "### 넘파이로 텐서 조작하기"
      ]
    },
    {
      "cell_type": "code",
      "metadata": {
        "id": "PaBqUIxYEDI7",
        "colab_type": "code",
        "colab": {
          "base_uri": "https://localhost:8080/",
          "height": 34
        },
        "outputId": "5954af5c-191b-44dd-d00a-c610f609728d"
      },
      "source": [
        "my_slice = train_images[10:100]\n",
        "print(my_slice.shape)"
      ],
      "execution_count": 75,
      "outputs": [
        {
          "output_type": "stream",
          "text": [
            "(90, 28, 28)\n"
          ],
          "name": "stdout"
        }
      ]
    },
    {
      "cell_type": "code",
      "metadata": {
        "id": "WYnk_1g4EKph",
        "colab_type": "code",
        "colab": {}
      },
      "source": [
        "my_slice = train_images[10:100, :, :]"
      ],
      "execution_count": 76,
      "outputs": []
    },
    {
      "cell_type": "code",
      "metadata": {
        "id": "8ZXWJt_gEXHH",
        "colab_type": "code",
        "colab": {
          "base_uri": "https://localhost:8080/",
          "height": 34
        },
        "outputId": "53889421-89dc-4012-a27b-75b2264e6c2a"
      },
      "source": [
        "my_slice.shape"
      ],
      "execution_count": 77,
      "outputs": [
        {
          "output_type": "execute_result",
          "data": {
            "text/plain": [
              "(90, 28, 28)"
            ]
          },
          "metadata": {
            "tags": []
          },
          "execution_count": 77
        }
      ]
    },
    {
      "cell_type": "code",
      "metadata": {
        "id": "YZpR3W-aEYK3",
        "colab_type": "code",
        "colab": {}
      },
      "source": [
        "my_slice = train_images[10:100, 0:28, 0:28]"
      ],
      "execution_count": 78,
      "outputs": []
    },
    {
      "cell_type": "code",
      "metadata": {
        "id": "j1yJPgP4Eb6L",
        "colab_type": "code",
        "colab": {
          "base_uri": "https://localhost:8080/",
          "height": 34
        },
        "outputId": "080360a1-c907-4903-ee6f-4973c4cdb363"
      },
      "source": [
        "my_slice.shape"
      ],
      "execution_count": 79,
      "outputs": [
        {
          "output_type": "execute_result",
          "data": {
            "text/plain": [
              "(90, 28, 28)"
            ]
          },
          "metadata": {
            "tags": []
          },
          "execution_count": 79
        }
      ]
    },
    {
      "cell_type": "markdown",
      "metadata": {
        "id": "pRo540gpFIfP",
        "colab_type": "text"
      },
      "source": [
        "### 2.2.7 배치 데이터"
      ]
    },
    {
      "cell_type": "markdown",
      "metadata": {
        "id": "yjt-1_lhFNOi",
        "colab_type": "text"
      },
      "source": [
        "딥러닝은 한 번에 전체 데이터셋을 처리하지 않고, 그 대신 작은 배치로 나누어 처리한다.\n",
        "\n",
        "batch = train_images[:128]\n",
        "\n",
        "batch = train_images[128:256]\n",
        "\n",
        "batch = train_images[128 * n:128 * (n + 1)]"
      ]
    },
    {
      "cell_type": "markdown",
      "metadata": {
        "id": "LAGccDtQFcaB",
        "colab_type": "text"
      },
      "source": [
        "### 2.2.8 텐서의 실제 사례\n",
        "\n",
        "우리가 사용할 데이터는 대부분 다음 중 하나에 속함\n",
        "* 벡터 데이터 : (samples, features) 크기의 2D 데이터\n",
        "* 시계열 데이터 또는 시퀀스 데이터 : (samples, timestamps, features) 크기의 3D 텐서\n",
        "* 이미지 : (samples, height, width, channels) 또는 (samples, channels, height, width) 크기의 4D 텐서\n",
        "* 동영상 : (samples, frames, height, width, channels) 또는 (samples, frames, channels, height, width) 크기의 5D 텐서"
      ]
    },
    {
      "cell_type": "markdown",
      "metadata": {
        "id": "Rn-I1sKQF9eJ",
        "colab_type": "text"
      },
      "source": [
        "### 2.2.9 벡터 데이터"
      ]
    },
    {
      "cell_type": "markdown",
      "metadata": {
        "id": "pNmcuhkRGusJ",
        "colab_type": "text"
      },
      "source": [
        "대부분의 경우에 해당\n",
        "예)\n",
        "* 사람의 나이, 우편 번호, 소득으로 구성된 인구 통계 데이터. <br>\n",
        "각 사람은 3개의 값을 가진 벡터로 구성되고 10만 명이 포함된 전체 데이터셋은 => (100000, 3)\n",
        "크기의 텐서에 저장가능<br>\n",
        "\n",
        "* (공통 단어 2만 개로 만든 사전에서) 각 단어가 등장한 횟수로 표현된 텍스트 문서 데이터 셋. <br>\n",
        "각 문서는 2만 개의 원소 사전에 있는 단어마다 하나의 원소에 대응합니다)를 가진 벡터로 인코딩될 수 있음.<br>500개의 문서로 이뤄진 전체 데이터셋은 (500, 20000) 크기의 텐서로 저장된다"
      ]
    },
    {
      "cell_type": "markdown",
      "metadata": {
        "id": "PA1fQZnyHDNG",
        "colab_type": "text"
      },
      "source": [
        "### 2.2.10 시계열 데이터 또는 시퀀스 데이터"
      ]
    },
    {
      "cell_type": "markdown",
      "metadata": {
        "id": "b5xWS1hdHyjl",
        "colab_type": "text"
      },
      "source": [
        "### 2.2.11 이미지 데이터"
      ]
    },
    {
      "cell_type": "markdown",
      "metadata": {
        "id": "yXBLPr_eIRgc",
        "colab_type": "text"
      },
      "source": [
        "### 2.2.12 비디오 데이터\n",
        "60초짜리 144x256 유튜브 비디오 클립을 초당 4프레임으로 샘플링하면 240프레임이 되고, <br> 이런 비디오 클립을 4개 가진 배치는 (4, 240, 144, 256, 3) 크기의 텐서에 저장되어 총 106,168,320개의 값이 있음<br> 이 텐서의 dtype을 float32로 했다면 각 값이 32비트로 저장될 것이므로 텐서의 저장 크기는 405MB가 된다."
      ]
    },
    {
      "cell_type": "markdown",
      "metadata": {
        "id": "LQfnGVlmJh0Y",
        "colab_type": "text"
      },
      "source": [
        "## 2.3 신경망의 톱니바퀴: 텐서 연산"
      ]
    },
    {
      "cell_type": "code",
      "metadata": {
        "id": "fqNC2ifCJq6E",
        "colab_type": "code",
        "colab": {}
      },
      "source": [
        ""
      ],
      "execution_count": null,
      "outputs": []
    },
    {
      "cell_type": "markdown",
      "metadata": {
        "id": "sraq2JfdL_fA",
        "colab_type": "text"
      },
      "source": [
        "### 2.3.1 원소별 연산\n",
        "\n",
        "일반적으로 relu 연산 구현처럼 for 반복문을 사용함<br>\n",
        "그러나 넘파이 배열을 다룰 때 최적화된 넘파이 내장 함수로 이런 연산들을 처리 가능<br>\n",
        "넘파이는 시스템에 설치된 BLAS가 있음 Basic Linear Algebra Subprogram.<br>\n",
        "BLAS는 고도로 병렬화되고 효율적인 저수준의 텐서 조작 루틴, 전형적으로 포트란이나 C로 구현되어 있음<br>\n",
        "넘파이는 다음과 같은 원소별 연산을 엄청난 속도로 처리\n",
        "\n",
        "import numpy as np<br>\n",
        "z = x + y #원소별 덧셈<br>\n",
        "z = np.maximum(z, 0.) # 원소별 렐루 함수"
      ]
    },
    {
      "cell_type": "markdown",
      "metadata": {
        "id": "PYxgRYgGNI_h",
        "colab_type": "text"
      },
      "source": [
        "### 2.3.2 브로드 캐스팅 (예시 이해가 잘 되지 않음)\n",
        "\n",
        "크기가 다른 두 텐서가 더해질 때, 모호하지 않고 실행 가능하다면 작은 텐서가 큰 텐서의 크기에 맞추어 브로드캐스팅된다. <br> 브로드캐스팅은 두 단계로 이뤄짐\n",
        "* 큰 텐서의 ndim에 맞도록 작은 텐서에(브로드캐스팅 축이라 불리는) 축이 추가된다\n",
        "* 작은 텐서가 새 축을 따라서 큰 텐서의 크기에 맞도록 반복"
      ]
    },
    {
      "cell_type": "markdown",
      "metadata": {
        "id": "PCUQh1ytNhmR",
        "colab_type": "text"
      },
      "source": [
        "### 2.3.3 텐서 점곱 (예시 이해가 잘 되지 않음)"
      ]
    },
    {
      "cell_type": "markdown",
      "metadata": {
        "id": "sayK_i5TOxH5",
        "colab_type": "text"
      },
      "source": [
        "### 2.3.4 텐서 크기 변환"
      ]
    },
    {
      "cell_type": "code",
      "metadata": {
        "id": "voOwU44cPI7P",
        "colab_type": "code",
        "colab": {}
      },
      "source": [
        "x = np.array([[0., 1.],\n",
        "             [2., 3.],\n",
        "             [4., 5.]])"
      ],
      "execution_count": 84,
      "outputs": []
    },
    {
      "cell_type": "code",
      "metadata": {
        "id": "kdNDeEEBOwz1",
        "colab_type": "code",
        "colab": {
          "base_uri": "https://localhost:8080/",
          "height": 34
        },
        "outputId": "b323d506-2eda-4b71-eaa3-1c923cf810a8"
      },
      "source": [
        "print (x.shape)"
      ],
      "execution_count": 85,
      "outputs": [
        {
          "output_type": "stream",
          "text": [
            "(3, 2)\n"
          ],
          "name": "stdout"
        }
      ]
    },
    {
      "cell_type": "code",
      "metadata": {
        "id": "fIiyfeYsOvfT",
        "colab_type": "code",
        "colab": {}
      },
      "source": [
        "x = x.reshape((6, 1))"
      ],
      "execution_count": 89,
      "outputs": []
    },
    {
      "cell_type": "code",
      "metadata": {
        "id": "jwzCSLrrPdKz",
        "colab_type": "code",
        "colab": {
          "base_uri": "https://localhost:8080/",
          "height": 119
        },
        "outputId": "5e783e94-11c4-405a-d7e3-e6f510d041b8"
      },
      "source": [
        "x"
      ],
      "execution_count": 90,
      "outputs": [
        {
          "output_type": "execute_result",
          "data": {
            "text/plain": [
              "array([[0.],\n",
              "       [1.],\n",
              "       [2.],\n",
              "       [3.],\n",
              "       [4.],\n",
              "       [5.]])"
            ]
          },
          "metadata": {
            "tags": []
          },
          "execution_count": 90
        }
      ]
    },
    {
      "cell_type": "code",
      "metadata": {
        "id": "4BfHtdyBPkyi",
        "colab_type": "code",
        "colab": {}
      },
      "source": [
        "x = x.reshape((2, 3))"
      ],
      "execution_count": 91,
      "outputs": []
    },
    {
      "cell_type": "code",
      "metadata": {
        "id": "lFtVLNguPpYo",
        "colab_type": "code",
        "colab": {
          "base_uri": "https://localhost:8080/",
          "height": 51
        },
        "outputId": "107b25fe-1374-464d-e7eb-bfa7a2446ac3"
      },
      "source": [
        "x"
      ],
      "execution_count": 92,
      "outputs": [
        {
          "output_type": "execute_result",
          "data": {
            "text/plain": [
              "array([[0., 1., 2.],\n",
              "       [3., 4., 5.]])"
            ]
          },
          "metadata": {
            "tags": []
          },
          "execution_count": 92
        }
      ]
    },
    {
      "cell_type": "code",
      "metadata": {
        "id": "RsiRpSSnPpix",
        "colab_type": "code",
        "colab": {}
      },
      "source": [
        "x = np.zeros((300, 20))"
      ],
      "execution_count": 93,
      "outputs": []
    },
    {
      "cell_type": "code",
      "metadata": {
        "id": "mU2atVy_PxKg",
        "colab_type": "code",
        "colab": {}
      },
      "source": [
        "x = np.transpose(x)"
      ],
      "execution_count": 94,
      "outputs": []
    },
    {
      "cell_type": "code",
      "metadata": {
        "id": "OK5DGf7EPx3o",
        "colab_type": "code",
        "colab": {
          "base_uri": "https://localhost:8080/",
          "height": 34
        },
        "outputId": "f924d2df-731f-4002-d7dc-8d93f7b9247d"
      },
      "source": [
        "print (x.shape)"
      ],
      "execution_count": 95,
      "outputs": [
        {
          "output_type": "stream",
          "text": [
            "(20, 300)\n"
          ],
          "name": "stdout"
        }
      ]
    },
    {
      "cell_type": "markdown",
      "metadata": {
        "id": "KRCvT0pxP0Nu",
        "colab_type": "text"
      },
      "source": [
        "### 2.3.5 텐서 연산의 기하학적 해석\n",
        "\n",
        "텐서의 내용은 어떤 기하학적 공간에 있는 좌표 포인트로 해석될 수 있기에 모든 텐서 연산은 기하학적 해석이 가능<br> 신경망의 경우 전체적으로 텐서 연산의 연결로 구성된 것으로 모든 텐서 연산은 입력 데이터의 기하학적 변환<br> ex) 섞여 뭉친 색종이 펼치기"
      ]
    },
    {
      "cell_type": "markdown",
      "metadata": {
        "id": "8-Lf_fa6iqnK",
        "colab_type": "text"
      },
      "source": [
        "## 2.4 신경망의 엔진: 그래디언트 기반 최적화"
      ]
    },
    {
      "cell_type": "markdown",
      "metadata": {
        "id": "sSKNEOrljrdJ",
        "colab_type": "text"
      },
      "source": [
        "### 2.4.1 변화율이란?"
      ]
    },
    {
      "cell_type": "markdown",
      "metadata": {
        "id": "-VYouPzMkVDO",
        "colab_type": "text"
      },
      "source": [
        "### 2.4.2 텐서 연산의 변화율: 그래디언트\n",
        "텐서 연산의 변화율 => 그래디언트"
      ]
    },
    {
      "cell_type": "markdown",
      "metadata": {
        "id": "HClD1UaglIjF",
        "colab_type": "text"
      },
      "source": [
        "### 2.4.3 확률적 경사 하강법"
      ]
    },
    {
      "cell_type": "markdown",
      "metadata": {
        "id": "IdXH91yn2YUm",
        "colab_type": "text"
      },
      "source": [
        "### 2.4.4 변화율 연결: 역전파 알고리즘"
      ]
    },
    {
      "cell_type": "markdown",
      "metadata": {
        "id": "dh22gmre2mdY",
        "colab_type": "text"
      },
      "source": [
        "## 2.5 첫 번째 예제 다시 살펴보기"
      ]
    },
    {
      "cell_type": "markdown",
      "metadata": {
        "id": "VHns9DbD4AZ-",
        "colab_type": "text"
      },
      "source": [
        "## 2.6 요약"
      ]
    }
  ]
}