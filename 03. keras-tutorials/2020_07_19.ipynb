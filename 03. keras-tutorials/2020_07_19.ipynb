{
 "cells": [
  {
   "cell_type": "markdown",
   "metadata": {},
   "source": [
    "# 3.4 영화 리뷰 분류: 이진 분류 예제"
   ]
  },
  {
   "cell_type": "markdown",
   "metadata": {},
   "source": [
    "## 3.4.1 IMDB 데이터셋"
   ]
  },
  {
   "cell_type": "markdown",
   "metadata": {},
   "source": [
    "### 코드 3-1 데이터셋 로드"
   ]
  },
  {
   "cell_type": "code",
   "execution_count": 59,
   "metadata": {},
   "outputs": [],
   "source": [
    "from tensorflow.keras.datasets import imdb\n",
    "\n",
    "(train_data, train_labels), (test_data, test_labels) = imdb.load_data(num_words=10000)\n",
    "\n",
    "# print (max([max(sequence) for sequence in train_data]))\n",
    "\n",
    "word_index = imdb.get_word_index()\n",
    "\n",
    "# print (word_index)\n",
    "\n",
    "reverse_word_index = dict(\n",
    "[(value, key) for (key, value) in word_index.items()])\n",
    "\n",
    "decoded_review = ' '.join(\n",
    "    [reverse_word_index.get(i - 3, '?') for i in train_data[0]])\n",
    "\n",
    "# print (decoded_review)\n",
    "\n"
   ]
  },
  {
   "cell_type": "markdown",
   "metadata": {},
   "source": [
    "## 3.4.2 데이터 준비"
   ]
  },
  {
   "cell_type": "markdown",
   "metadata": {},
   "source": [
    "### 코드 3-2 정수 시퀀스를 이진 행렬로 인코딩"
   ]
  },
  {
   "cell_type": "code",
   "execution_count": 5,
   "metadata": {},
   "outputs": [],
   "source": [
    "import numpy as np\n",
    "\n",
    "# 훈련, 테스트 데이터를 벡터화 시키기 위한 함수\n",
    "def vectorize_sequences(sequences, dimension=10000):\n",
    "    results = np.zeros((len(sequences), dimension))\n",
    "    for i, sequence in enumerate(sequences):\n",
    "        results[i, sequence] = 1.\n",
    "    return results\n",
    "\n",
    "x_train = vectorize_sequences(train_data)\n",
    "x_test = vectorize_sequences(test_data)\n",
    "\n",
    "y_train = np.asarray(train_labels).astype('float32')\n",
    "y_test = np.asarray(test_labels).astype('float32')"
   ]
  },
  {
   "cell_type": "markdown",
   "metadata": {},
   "source": [
    "## 3.4.3 신경망 모델 만들기"
   ]
  },
  {
   "cell_type": "markdown",
   "metadata": {},
   "source": [
    "## 코드 3-3 모델 정의"
   ]
  },
  {
   "cell_type": "code",
   "execution_count": 4,
   "metadata": {},
   "outputs": [
    {
     "name": "stdout",
     "output_type": "stream",
     "text": [
      "WARNING:tensorflow:From C:\\Users\\Roytravel\\Anaconda3\\lib\\site-packages\\tensorflow\\python\\ops\\init_ops.py:1251: calling VarianceScaling.__init__ (from tensorflow.python.ops.init_ops) with dtype is deprecated and will be removed in a future version.\n",
      "Instructions for updating:\n",
      "Call initializer instance with the dtype argument instead of passing it to the constructor\n"
     ]
    }
   ],
   "source": [
    "from tensorflow.keras import models\n",
    "from tensorflow.keras import layers\n",
    "\n",
    "model = models.Sequential()\n",
    "model.add(layers.Dense(16, activation='relu', input_shape=(10000,)))\n",
    "model.add(layers.Dense(16, activation='relu'))\n",
    "model.add(layers.Dense(1, activation='sigmoid'))"
   ]
  },
  {
   "cell_type": "markdown",
   "metadata": {},
   "source": [
    "### 코드3-4 모델 컴파일"
   ]
  },
  {
   "cell_type": "code",
   "execution_count": 8,
   "metadata": {},
   "outputs": [
    {
     "name": "stdout",
     "output_type": "stream",
     "text": [
      "WARNING:tensorflow:From C:\\Users\\Roytravel\\Anaconda3\\lib\\site-packages\\tensorflow\\python\\ops\\nn_impl.py:180: add_dispatch_support.<locals>.wrapper (from tensorflow.python.ops.array_ops) is deprecated and will be removed in a future version.\n",
      "Instructions for updating:\n",
      "Use tf.where in 2.0, which has the same broadcast rule as np.where\n"
     ]
    }
   ],
   "source": [
    "model.compile(optimizer='rmsprop',\n",
    "              loss = 'binary_crossentropy',\n",
    "              metrics = ['accuracy'])"
   ]
  },
  {
   "cell_type": "markdown",
   "metadata": {},
   "source": [
    "### 코드 3-5 옵티마이저 설정"
   ]
  },
  {
   "cell_type": "code",
   "execution_count": 9,
   "metadata": {},
   "outputs": [],
   "source": [
    "from tensorflow.keras import optimizers\n",
    "\n",
    "model.compile(optimizer=optimizers.RMSprop(lr=0.001),\n",
    "             loss='binary_crossentropy',\n",
    "             metrics=['accuracy'])"
   ]
  },
  {
   "cell_type": "markdown",
   "metadata": {},
   "source": [
    "### 코드 3-6 손실과 측정을 함수 객체로 지정"
   ]
  },
  {
   "cell_type": "code",
   "execution_count": 12,
   "metadata": {},
   "outputs": [],
   "source": [
    "from tensorflow.keras import losses\n",
    "from tensorflow.keras import metrics\n",
    "\n",
    "model.compile(optimizer=optimizers.RMSprop(lr=0.001),\n",
    "              loss=losses.binary_crossentropy,\n",
    "              metrics=[metrics.binary_accuracy])"
   ]
  },
  {
   "cell_type": "markdown",
   "metadata": {},
   "source": [
    "## 3.4.4 훈련 검증"
   ]
  },
  {
   "cell_type": "markdown",
   "metadata": {},
   "source": [
    "### 코드 3-7 검증 세트 준비"
   ]
  },
  {
   "cell_type": "code",
   "execution_count": 13,
   "metadata": {},
   "outputs": [],
   "source": [
    "x_val = x_train[:10000]\n",
    "partial_x_train = x_train[10000:]\n",
    "y_val = y_train[:10000]\n",
    "partial_y_train = y_train[10000:]"
   ]
  },
  {
   "cell_type": "markdown",
   "metadata": {},
   "source": [
    "### 코드 3-8 모델 훈련"
   ]
  },
  {
   "cell_type": "code",
   "execution_count": 15,
   "metadata": {},
   "outputs": [
    {
     "name": "stdout",
     "output_type": "stream",
     "text": [
      "Train on 15000 samples, validate on 10000 samples\n",
      "Epoch 1/20\n",
      "15000/15000 [==============================] - 2s 106us/sample - loss: 0.5432 - acc: 0.7709 - val_loss: 0.4272 - val_acc: 0.8496\n",
      "Epoch 2/20\n",
      "15000/15000 [==============================] - 1s 84us/sample - loss: 0.3359 - acc: 0.8963 - val_loss: 0.3207 - val_acc: 0.8830\n",
      "Epoch 3/20\n",
      "15000/15000 [==============================] - 1s 85us/sample - loss: 0.2416 - acc: 0.9197 - val_loss: 0.2812 - val_acc: 0.8902\n",
      "Epoch 4/20\n",
      "15000/15000 [==============================] - 1s 85us/sample - loss: 0.1892 - acc: 0.9381 - val_loss: 0.2770 - val_acc: 0.8885\n",
      "Epoch 5/20\n",
      "15000/15000 [==============================] - 1s 85us/sample - loss: 0.1514 - acc: 0.9510 - val_loss: 0.2853 - val_acc: 0.8857\n",
      "Epoch 6/20\n",
      "15000/15000 [==============================] - 1s 85us/sample - loss: 0.1260 - acc: 0.9606 - val_loss: 0.2870 - val_acc: 0.8862\n",
      "Epoch 7/20\n",
      "15000/15000 [==============================] - 1s 85us/sample - loss: 0.1045 - acc: 0.9684 - val_loss: 0.3061 - val_acc: 0.8831\n",
      "Epoch 8/20\n",
      "15000/15000 [==============================] - 1s 85us/sample - loss: 0.0843 - acc: 0.9773 - val_loss: 0.3223 - val_acc: 0.8816\n",
      "Epoch 9/20\n",
      "15000/15000 [==============================] - 1s 85us/sample - loss: 0.0707 - acc: 0.9805 - val_loss: 0.3481 - val_acc: 0.8818\n",
      "Epoch 10/20\n",
      "15000/15000 [==============================] - 1s 86us/sample - loss: 0.0559 - acc: 0.9865 - val_loss: 0.3716 - val_acc: 0.8767\n",
      "Epoch 11/20\n",
      "15000/15000 [==============================] - 1s 85us/sample - loss: 0.0464 - acc: 0.9883 - val_loss: 0.4108 - val_acc: 0.8724\n",
      "Epoch 12/20\n",
      "15000/15000 [==============================] - 1s 86us/sample - loss: 0.0357 - acc: 0.9922 - val_loss: 0.4244 - val_acc: 0.8742\n",
      "Epoch 13/20\n",
      "15000/15000 [==============================] - 1s 86us/sample - loss: 0.0294 - acc: 0.9940 - val_loss: 0.4544 - val_acc: 0.8739\n",
      "Epoch 14/20\n",
      "15000/15000 [==============================] - 1s 86us/sample - loss: 0.0241 - acc: 0.9949 - val_loss: 0.4879 - val_acc: 0.8705\n",
      "Epoch 15/20\n",
      "15000/15000 [==============================] - 1s 85us/sample - loss: 0.0199 - acc: 0.9968 - val_loss: 0.5159 - val_acc: 0.8704\n",
      "Epoch 16/20\n",
      "15000/15000 [==============================] - 1s 87us/sample - loss: 0.0150 - acc: 0.9975 - val_loss: 0.5449 - val_acc: 0.8713\n",
      "Epoch 17/20\n",
      "15000/15000 [==============================] - 1s 87us/sample - loss: 0.0091 - acc: 0.9996 - val_loss: 0.5856 - val_acc: 0.8685\n",
      "Epoch 18/20\n",
      "15000/15000 [==============================] - 1s 89us/sample - loss: 0.0119 - acc: 0.9979 - val_loss: 0.6197 - val_acc: 0.8659\n",
      "Epoch 19/20\n",
      "15000/15000 [==============================] - 1s 88us/sample - loss: 0.0049 - acc: 0.9999 - val_loss: 0.6585 - val_acc: 0.8668\n",
      "Epoch 20/20\n",
      "15000/15000 [==============================] - 1s 89us/sample - loss: 0.0062 - acc: 0.9993 - val_loss: 0.6838 - val_acc: 0.8670\n"
     ]
    }
   ],
   "source": [
    "model.compile(optimizer='rmsprop',\n",
    "              loss='binary_crossentropy',\n",
    "               metrics=['acc'])\n",
    "\n",
    "history = model.fit(partial_x_train,\n",
    "                    partial_y_train,\n",
    "                    epochs=20,\n",
    "                    batch_size = 512,\n",
    "                    validation_data=(x_val, y_val))"
   ]
  },
  {
   "cell_type": "code",
   "execution_count": 20,
   "metadata": {},
   "outputs": [
    {
     "data": {
      "text/plain": [
       "dict_keys(['loss', 'acc', 'val_loss', 'val_acc'])"
      ]
     },
     "execution_count": 20,
     "metadata": {},
     "output_type": "execute_result"
    }
   ],
   "source": [
    "# model.fit() 메서드는 History 객체를 반환하며, 이 객체는 훈련동안 발생한 모든 정보를 담고 있는 딕셔너리인 history 속성을 가짐\n",
    "history_dict = history.history\n",
    "history_dict.keys()"
   ]
  },
  {
   "cell_type": "markdown",
   "metadata": {},
   "source": [
    "### 코드 3-9 훈련과 검증 손실 그리기"
   ]
  },
  {
   "cell_type": "code",
   "execution_count": 35,
   "metadata": {},
   "outputs": [
    {
     "data": {
      "image/png": "[encoded data removed]",
      "text/plain": [
       "<Figure size 432x288 with 1 Axes>"
      ]
     },
     "metadata": {
      "needs_background": "light"
     },
     "output_type": "display_data"
    }
   ],
   "source": [
    "import matplotlib.pyplot as plt\n",
    "\n",
    "history_dict = history.history\n",
    "loss = history_dict['loss']\n",
    "val_loss = history_dict['val_loss']\n",
    "\n",
    "epochs = range(1, len(loss) + 1)\n",
    "\n",
    "plt.plot(epochs, loss, 'yo', label='Training acc')\n",
    "plt.plot(epochs, val_loss, 'g', label='Validation acc')\n",
    "plt.title('Training and validation accuracy')\n",
    "plt.xlabel('Epochs')\n",
    "plt.ylabel('Accuracy')\n",
    "plt.legend()\n",
    "\n",
    "plt.show()"
   ]
  },
  {
   "cell_type": "markdown",
   "metadata": {},
   "source": [
    "### 훈련 3-10 훈련과 검증 정확도 그리기"
   ]
  },
  {
   "cell_type": "code",
   "execution_count": 38,
   "metadata": {},
   "outputs": [
    {
     "data": {
      "image/png": "[encoded data removed]",
      "text/plain": [
       "<Figure size 432x288 with 1 Axes>"
      ]
     },
     "metadata": {
      "needs_background": "light"
     },
     "output_type": "display_data"
    }
   ],
   "source": [
    "plt.clf() #------ 그래프 초기화\n",
    "acc = history_dict['acc']\n",
    "val_acc = history_dict['val_acc']\n",
    "\n",
    "plt.plot(epochs, acc, 'go', label='Training acc')\n",
    "plt.plot(epochs, val_acc, 'y', label='Validation acc')\n",
    "plt.title('Training and validation accuracy')\n",
    "plt.xlabel('Epochs')\n",
    "plt.ylabel('Accuracy')\n",
    "plt.legend()\n",
    "plt.show()"
   ]
  },
  {
   "cell_type": "markdown",
   "metadata": {},
   "source": [
    "### 코드 3-11 모델을 처음부터 다시 훈련"
   ]
  },
  {
   "cell_type": "code",
   "execution_count": 58,
   "metadata": {},
   "outputs": [
    {
     "name": "stdout",
     "output_type": "stream",
     "text": [
      "Epoch 1/4\n",
      "25000/25000 [==============================] - 1s 57us/sample - loss: 0.5005 - acc: 0.7958\n",
      "Epoch 2/4\n",
      "25000/25000 [==============================] - 1s 53us/sample - loss: 0.2864 - acc: 0.9070\n",
      "Epoch 3/4\n",
      "25000/25000 [==============================] - 1s 53us/sample - loss: 0.2116 - acc: 0.9274\n",
      "Epoch 4/4\n",
      "25000/25000 [==============================] - 1s 53us/sample - loss: 0.1759 - acc: 0.9396\n",
      "25000/25000 [==============================] - 1s 57us/sample - loss: 0.2908 - acc: 0.8847\n"
     ]
    }
   ],
   "source": [
    "model = models.Sequential()\n",
    "model.add(layers.Dense(16, activation='relu', input_shape=(10000,)))\n",
    "model.add(layers.Dense(16, activation='relu'))\n",
    "model.add(layers.Dense(1, activation='sigmoid'))\n",
    "\n",
    "model.compile(optimizer='rmsprop',\n",
    "              loss = 'binary_crossentropy',\n",
    "              metrics =['accuracy'])\n",
    "\n",
    "model.fit(x_train, y_train, epochs=4, batch_size=512)\n",
    "results = model.evaluate(x_test, y_test)"
   ]
  },
  {
   "cell_type": "code",
   "execution_count": 55,
   "metadata": {},
   "outputs": [
    {
     "data": {
      "text/plain": [
       "array([[0.23882046],\n",
       "       [0.9976257 ],\n",
       "       [0.94269586],\n",
       "       ...,\n",
       "       [0.11431727],\n",
       "       [0.09117499],\n",
       "       [0.7000292 ]], dtype=float32)"
      ]
     },
     "execution_count": 55,
     "metadata": {},
     "output_type": "execute_result"
    }
   ],
   "source": [
    "model.predict(x_test)"
   ]
  },
  {
   "cell_type": "code",
   "execution_count": null,
   "metadata": {},
   "outputs": [],
   "source": []
  }
 ],
 "metadata": {
  "kernelspec": {
   "display_name": "Python 3",
   "language": "python",
   "name": "python3"
  },
  "language_info": {
   "codemirror_mode": {
    "name": "ipython",
    "version": 3
   },
   "file_extension": ".py",
   "mimetype": "text/x-python",
   "name": "python",
   "nbconvert_exporter": "python",
   "pygments_lexer": "ipython3",
   "version": "3.7.6"
  }
 },
 "nbformat": 4,
 "nbformat_minor": 4
}
